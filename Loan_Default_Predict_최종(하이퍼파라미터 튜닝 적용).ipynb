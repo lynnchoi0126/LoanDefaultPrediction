{
  "nbformat": 4,
  "nbformat_minor": 0,
  "metadata": {
    "colab": {
      "provenance": []
    },
    "kernelspec": {
      "name": "python3",
      "display_name": "Python 3"
    },
    "language_info": {
      "name": "python"
    }
  },
  "cells": [
    {
      "cell_type": "markdown",
      "source": [
        "# 0. 데이터 로드하기"
      ],
      "metadata": {
        "id": "DUUHQxtypTwl"
      }
    },
    {
      "cell_type": "code",
      "source": [
        "from google.colab import drive\n",
        "drive.mount('/content/drive')"
      ],
      "metadata": {
        "id": "tdQ85O_XXXga",
        "colab": {
          "base_uri": "https://localhost:8080/"
        },
        "outputId": "5460477f-3a7d-4810-97dd-7d9805b78490"
      },
      "execution_count": null,
      "outputs": [
        {
          "output_type": "stream",
          "name": "stdout",
          "text": [
            "Mounted at /content/drive\n"
          ]
        }
      ]
    },
    {
      "cell_type": "code",
      "execution_count": null,
      "metadata": {
        "id": "bqqbXdqVk8J5"
      },
      "outputs": [],
      "source": [
        "import pandas as pd \n",
        "import numpy as np\n",
        "import matplotlib.pyplot as plt\n",
        "\n",
        "import warnings\n",
        "warnings.filterwarnings('ignore')\n",
        "\n",
        "# train_raw = pd.read_csv('/content/drive/MyDrive/Colab Notebooks/loan_train.csv')\n",
        "# test_raw = pd.read_csv('/content/drive/MyDrive/Colab Notebooks/loan_test.csv')\n",
        "\n",
        "# train = pd.read_csv('/content/drive/MyDrive/school/DataScience/loan_train.csv')\n",
        "# test = pd.read_csv('/content/drive/MyDrive/school/DataScience/loan_test.csv')\n",
        "\n",
        "# 진지원용\n",
        "train = pd.read_csv('/content/drive/MyDrive/train_loan.csv')\n",
        "test = pd.read_csv('/content/drive/MyDrive/test_loan.csv')"
      ]
    },
    {
      "cell_type": "code",
      "source": [
        "train.head()"
      ],
      "metadata": {
        "id": "VEGf5derr1Cx",
        "colab": {
          "base_uri": "https://localhost:8080/",
          "height": 352
        },
        "outputId": "d1807b72-fd55-4544-ce7b-75523d010368"
      },
      "execution_count": null,
      "outputs": [
        {
          "output_type": "execute_result",
          "data": {
            "text/plain": [
              "         ID  Loan Amount  Funded Amount  Funded Amount Investor  Term  \\\n",
              "0  57890399        14986           6848            14215.834900    58   \n",
              "1  14627222        25795           5588            10972.781160    58   \n",
              "2  63209318         4200          16786             7370.911374    59   \n",
              "3   5295524        17148          21912             4840.020550    59   \n",
              "4  27540920        20848          11668            13408.689070    59   \n",
              "\n",
              "  Batch Enrolled  Interest Rate Grade Sub Grade Employment Duration  ...  \\\n",
              "0     BAT1766061      17.841656     A        G5            MORTGAGE  ...   \n",
              "1     BAT4694572      11.655297     B        C1            MORTGAGE  ...   \n",
              "2     BAT1104812      10.499741     B        B4                RENT  ...   \n",
              "3     BAT4722912      14.274406     E        B3                 OWN  ...   \n",
              "4     BAT1104812      10.343987     C        D4            MORTGAGE  ...   \n",
              "\n",
              "   Recoveries Collection Recovery Fee Collection 12 months Medical  \\\n",
              "0    5.460927                0.692790                            0   \n",
              "1    1.390781                1.415970                            0   \n",
              "2    4.888484                1.410109                            0   \n",
              "3    0.842342                0.693088                            0   \n",
              "4    2.834972                0.667659                            0   \n",
              "\n",
              "  Application Type  Last week Pay  Accounts Delinquent  \\\n",
              "0            JOINT            159                    0   \n",
              "1       INDIVIDUAL            141                    0   \n",
              "2       INDIVIDUAL            152                    0   \n",
              "3       INDIVIDUAL            145                    0   \n",
              "4       INDIVIDUAL            106                    0   \n",
              "\n",
              "   Total Collection Amount  Total Current Balance  \\\n",
              "0                       41                  16762   \n",
              "1                       21                 411722   \n",
              "2                       20                  70438   \n",
              "3                       17                 414692   \n",
              "4                       49                  49760   \n",
              "\n",
              "   Total Revolving Credit Limit  Loan Status  \n",
              "0                          6137            0  \n",
              "1                          8417            0  \n",
              "2                          6932            0  \n",
              "3                         19552            0  \n",
              "4                         34135            0  \n",
              "\n",
              "[5 rows x 35 columns]"
            ],
            "text/html": [
              "\n",
              "  <div id=\"df-e3d2f6f6-2ecc-4ca0-9b47-7965f046625f\">\n",
              "    <div class=\"colab-df-container\">\n",
              "      <div>\n",
              "<style scoped>\n",
              "    .dataframe tbody tr th:only-of-type {\n",
              "        vertical-align: middle;\n",
              "    }\n",
              "\n",
              "    .dataframe tbody tr th {\n",
              "        vertical-align: top;\n",
              "    }\n",
              "\n",
              "    .dataframe thead th {\n",
              "        text-align: right;\n",
              "    }\n",
              "</style>\n",
              "<table border=\"1\" class=\"dataframe\">\n",
              "  <thead>\n",
              "    <tr style=\"text-align: right;\">\n",
              "      <th></th>\n",
              "      <th>ID</th>\n",
              "      <th>Loan Amount</th>\n",
              "      <th>Funded Amount</th>\n",
              "      <th>Funded Amount Investor</th>\n",
              "      <th>Term</th>\n",
              "      <th>Batch Enrolled</th>\n",
              "      <th>Interest Rate</th>\n",
              "      <th>Grade</th>\n",
              "      <th>Sub Grade</th>\n",
              "      <th>Employment Duration</th>\n",
              "      <th>...</th>\n",
              "      <th>Recoveries</th>\n",
              "      <th>Collection Recovery Fee</th>\n",
              "      <th>Collection 12 months Medical</th>\n",
              "      <th>Application Type</th>\n",
              "      <th>Last week Pay</th>\n",
              "      <th>Accounts Delinquent</th>\n",
              "      <th>Total Collection Amount</th>\n",
              "      <th>Total Current Balance</th>\n",
              "      <th>Total Revolving Credit Limit</th>\n",
              "      <th>Loan Status</th>\n",
              "    </tr>\n",
              "  </thead>\n",
              "  <tbody>\n",
              "    <tr>\n",
              "      <th>0</th>\n",
              "      <td>57890399</td>\n",
              "      <td>14986</td>\n",
              "      <td>6848</td>\n",
              "      <td>14215.834900</td>\n",
              "      <td>58</td>\n",
              "      <td>BAT1766061</td>\n",
              "      <td>17.841656</td>\n",
              "      <td>A</td>\n",
              "      <td>G5</td>\n",
              "      <td>MORTGAGE</td>\n",
              "      <td>...</td>\n",
              "      <td>5.460927</td>\n",
              "      <td>0.692790</td>\n",
              "      <td>0</td>\n",
              "      <td>JOINT</td>\n",
              "      <td>159</td>\n",
              "      <td>0</td>\n",
              "      <td>41</td>\n",
              "      <td>16762</td>\n",
              "      <td>6137</td>\n",
              "      <td>0</td>\n",
              "    </tr>\n",
              "    <tr>\n",
              "      <th>1</th>\n",
              "      <td>14627222</td>\n",
              "      <td>25795</td>\n",
              "      <td>5588</td>\n",
              "      <td>10972.781160</td>\n",
              "      <td>58</td>\n",
              "      <td>BAT4694572</td>\n",
              "      <td>11.655297</td>\n",
              "      <td>B</td>\n",
              "      <td>C1</td>\n",
              "      <td>MORTGAGE</td>\n",
              "      <td>...</td>\n",
              "      <td>1.390781</td>\n",
              "      <td>1.415970</td>\n",
              "      <td>0</td>\n",
              "      <td>INDIVIDUAL</td>\n",
              "      <td>141</td>\n",
              "      <td>0</td>\n",
              "      <td>21</td>\n",
              "      <td>411722</td>\n",
              "      <td>8417</td>\n",
              "      <td>0</td>\n",
              "    </tr>\n",
              "    <tr>\n",
              "      <th>2</th>\n",
              "      <td>63209318</td>\n",
              "      <td>4200</td>\n",
              "      <td>16786</td>\n",
              "      <td>7370.911374</td>\n",
              "      <td>59</td>\n",
              "      <td>BAT1104812</td>\n",
              "      <td>10.499741</td>\n",
              "      <td>B</td>\n",
              "      <td>B4</td>\n",
              "      <td>RENT</td>\n",
              "      <td>...</td>\n",
              "      <td>4.888484</td>\n",
              "      <td>1.410109</td>\n",
              "      <td>0</td>\n",
              "      <td>INDIVIDUAL</td>\n",
              "      <td>152</td>\n",
              "      <td>0</td>\n",
              "      <td>20</td>\n",
              "      <td>70438</td>\n",
              "      <td>6932</td>\n",
              "      <td>0</td>\n",
              "    </tr>\n",
              "    <tr>\n",
              "      <th>3</th>\n",
              "      <td>5295524</td>\n",
              "      <td>17148</td>\n",
              "      <td>21912</td>\n",
              "      <td>4840.020550</td>\n",
              "      <td>59</td>\n",
              "      <td>BAT4722912</td>\n",
              "      <td>14.274406</td>\n",
              "      <td>E</td>\n",
              "      <td>B3</td>\n",
              "      <td>OWN</td>\n",
              "      <td>...</td>\n",
              "      <td>0.842342</td>\n",
              "      <td>0.693088</td>\n",
              "      <td>0</td>\n",
              "      <td>INDIVIDUAL</td>\n",
              "      <td>145</td>\n",
              "      <td>0</td>\n",
              "      <td>17</td>\n",
              "      <td>414692</td>\n",
              "      <td>19552</td>\n",
              "      <td>0</td>\n",
              "    </tr>\n",
              "    <tr>\n",
              "      <th>4</th>\n",
              "      <td>27540920</td>\n",
              "      <td>20848</td>\n",
              "      <td>11668</td>\n",
              "      <td>13408.689070</td>\n",
              "      <td>59</td>\n",
              "      <td>BAT1104812</td>\n",
              "      <td>10.343987</td>\n",
              "      <td>C</td>\n",
              "      <td>D4</td>\n",
              "      <td>MORTGAGE</td>\n",
              "      <td>...</td>\n",
              "      <td>2.834972</td>\n",
              "      <td>0.667659</td>\n",
              "      <td>0</td>\n",
              "      <td>INDIVIDUAL</td>\n",
              "      <td>106</td>\n",
              "      <td>0</td>\n",
              "      <td>49</td>\n",
              "      <td>49760</td>\n",
              "      <td>34135</td>\n",
              "      <td>0</td>\n",
              "    </tr>\n",
              "  </tbody>\n",
              "</table>\n",
              "<p>5 rows × 35 columns</p>\n",
              "</div>\n",
              "      <button class=\"colab-df-convert\" onclick=\"convertToInteractive('df-e3d2f6f6-2ecc-4ca0-9b47-7965f046625f')\"\n",
              "              title=\"Convert this dataframe to an interactive table.\"\n",
              "              style=\"display:none;\">\n",
              "        \n",
              "  <svg xmlns=\"http://www.w3.org/2000/svg\" height=\"24px\"viewBox=\"0 0 24 24\"\n",
              "       width=\"24px\">\n",
              "    <path d=\"M0 0h24v24H0V0z\" fill=\"none\"/>\n",
              "    <path d=\"M18.56 5.44l.94 2.06.94-2.06 2.06-.94-2.06-.94-.94-2.06-.94 2.06-2.06.94zm-11 1L8.5 8.5l.94-2.06 2.06-.94-2.06-.94L8.5 2.5l-.94 2.06-2.06.94zm10 10l.94 2.06.94-2.06 2.06-.94-2.06-.94-.94-2.06-.94 2.06-2.06.94z\"/><path d=\"M17.41 7.96l-1.37-1.37c-.4-.4-.92-.59-1.43-.59-.52 0-1.04.2-1.43.59L10.3 9.45l-7.72 7.72c-.78.78-.78 2.05 0 2.83L4 21.41c.39.39.9.59 1.41.59.51 0 1.02-.2 1.41-.59l7.78-7.78 2.81-2.81c.8-.78.8-2.07 0-2.86zM5.41 20L4 18.59l7.72-7.72 1.47 1.35L5.41 20z\"/>\n",
              "  </svg>\n",
              "      </button>\n",
              "      \n",
              "  <style>\n",
              "    .colab-df-container {\n",
              "      display:flex;\n",
              "      flex-wrap:wrap;\n",
              "      gap: 12px;\n",
              "    }\n",
              "\n",
              "    .colab-df-convert {\n",
              "      background-color: #E8F0FE;\n",
              "      border: none;\n",
              "      border-radius: 50%;\n",
              "      cursor: pointer;\n",
              "      display: none;\n",
              "      fill: #1967D2;\n",
              "      height: 32px;\n",
              "      padding: 0 0 0 0;\n",
              "      width: 32px;\n",
              "    }\n",
              "\n",
              "    .colab-df-convert:hover {\n",
              "      background-color: #E2EBFA;\n",
              "      box-shadow: 0px 1px 2px rgba(60, 64, 67, 0.3), 0px 1px 3px 1px rgba(60, 64, 67, 0.15);\n",
              "      fill: #174EA6;\n",
              "    }\n",
              "\n",
              "    [theme=dark] .colab-df-convert {\n",
              "      background-color: #3B4455;\n",
              "      fill: #D2E3FC;\n",
              "    }\n",
              "\n",
              "    [theme=dark] .colab-df-convert:hover {\n",
              "      background-color: #434B5C;\n",
              "      box-shadow: 0px 1px 3px 1px rgba(0, 0, 0, 0.15);\n",
              "      filter: drop-shadow(0px 1px 2px rgba(0, 0, 0, 0.3));\n",
              "      fill: #FFFFFF;\n",
              "    }\n",
              "  </style>\n",
              "\n",
              "      <script>\n",
              "        const buttonEl =\n",
              "          document.querySelector('#df-e3d2f6f6-2ecc-4ca0-9b47-7965f046625f button.colab-df-convert');\n",
              "        buttonEl.style.display =\n",
              "          google.colab.kernel.accessAllowed ? 'block' : 'none';\n",
              "\n",
              "        async function convertToInteractive(key) {\n",
              "          const element = document.querySelector('#df-e3d2f6f6-2ecc-4ca0-9b47-7965f046625f');\n",
              "          const dataTable =\n",
              "            await google.colab.kernel.invokeFunction('convertToInteractive',\n",
              "                                                     [key], {});\n",
              "          if (!dataTable) return;\n",
              "\n",
              "          const docLinkHtml = 'Like what you see? Visit the ' +\n",
              "            '<a target=\"_blank\" href=https://colab.research.google.com/notebooks/data_table.ipynb>data table notebook</a>'\n",
              "            + ' to learn more about interactive tables.';\n",
              "          element.innerHTML = '';\n",
              "          dataTable['output_type'] = 'display_data';\n",
              "          await google.colab.output.renderOutput(dataTable, element);\n",
              "          const docLink = document.createElement('div');\n",
              "          docLink.innerHTML = docLinkHtml;\n",
              "          element.appendChild(docLink);\n",
              "        }\n",
              "      </script>\n",
              "    </div>\n",
              "  </div>\n",
              "  "
            ]
          },
          "metadata": {},
          "execution_count": 3
        }
      ]
    },
    {
      "cell_type": "code",
      "source": [
        "train.columns"
      ],
      "metadata": {
        "id": "nHNsOeRZ0cvo",
        "colab": {
          "base_uri": "https://localhost:8080/"
        },
        "outputId": "580e4e78-786c-40a0-8c87-21a0d8e23c52"
      },
      "execution_count": null,
      "outputs": [
        {
          "output_type": "execute_result",
          "data": {
            "text/plain": [
              "Index(['ID', 'Loan Amount', 'Funded Amount', 'Funded Amount Investor', 'Term',\n",
              "       'Batch Enrolled', 'Interest Rate', 'Grade', 'Sub Grade',\n",
              "       'Employment Duration', 'Home Ownership', 'Verification Status',\n",
              "       'Payment Plan', 'Loan Title', 'Debit to Income',\n",
              "       'Delinquency - two years', 'Inquires - six months', 'Open Account',\n",
              "       'Public Record', 'Revolving Balance', 'Revolving Utilities',\n",
              "       'Total Accounts', 'Initial List Status', 'Total Received Interest',\n",
              "       'Total Received Late Fee', 'Recoveries', 'Collection Recovery Fee',\n",
              "       'Collection 12 months Medical', 'Application Type', 'Last week Pay',\n",
              "       'Accounts Delinquent', 'Total Collection Amount',\n",
              "       'Total Current Balance', 'Total Revolving Credit Limit', 'Loan Status'],\n",
              "      dtype='object')"
            ]
          },
          "metadata": {},
          "execution_count": 4
        }
      ]
    },
    {
      "cell_type": "markdown",
      "source": [
        "여기서 Unnamed : 0 과 ID는 고윳값이므로 모두 삭제해주자."
      ],
      "metadata": {
        "id": "xLQh_N-8r7T1"
      }
    },
    {
      "cell_type": "code",
      "source": [
        "train = train_raw.drop(['Unnamed: 0', 'ID'], axis=1)\n",
        "test = test_raw.drop(['Unnamed: 0', 'ID'], axis=1)\n",
        "\n",
        "# 진지원용\n",
        "# train = train.drop(['ID'], axis=1)\n",
        "# test = test.drop(['ID'], axis=1)"
      ],
      "metadata": {
        "id": "RHWmKF54r5ql"
      },
      "execution_count": null,
      "outputs": []
    },
    {
      "cell_type": "code",
      "source": [
        "print(train.shape)\n",
        "print(test.shape)"
      ],
      "metadata": {
        "id": "RN2I1f-OtNEk",
        "colab": {
          "base_uri": "https://localhost:8080/"
        },
        "outputId": "e429d58a-0055-45c1-ac93-0e753d11774c"
      },
      "execution_count": null,
      "outputs": [
        {
          "output_type": "stream",
          "name": "stdout",
          "text": [
            "(47224, 34)\n",
            "(20239, 33)\n"
          ]
        }
      ]
    },
    {
      "cell_type": "code",
      "source": [
        "train.describe()"
      ],
      "metadata": {
        "id": "gVxVqxussE0x",
        "colab": {
          "base_uri": "https://localhost:8080/",
          "height": 446
        },
        "outputId": "5942f357-f0aa-4bc6-f368-d27496ad87d7"
      },
      "execution_count": null,
      "outputs": [
        {
          "output_type": "execute_result",
          "data": {
            "text/plain": [
              "        Loan Amount  Funded Amount  Funded Amount Investor          Term  \\\n",
              "count  47224.000000   47224.000000            47224.000000  47224.000000   \n",
              "mean   16842.147023   15757.808593            14627.119843     58.167775   \n",
              "std     8361.875310    8144.238979             6773.434634      3.351086   \n",
              "min     1014.000000    1014.000000             1129.708853     36.000000   \n",
              "25%    10004.000000    9270.750000             9841.754930     58.000000   \n",
              "50%    16065.500000   13020.500000            12827.552670     59.000000   \n",
              "75%    22090.000000   21784.000000            17787.776040     59.000000   \n",
              "max    35000.000000   34999.000000            34999.746430     59.000000   \n",
              "\n",
              "       Interest Rate  Home Ownership  Debit to Income  \\\n",
              "count   47224.000000    47224.000000     47224.000000   \n",
              "mean       11.865266    80509.772500        23.259671   \n",
              "std         3.713236    44998.317649         8.453230   \n",
              "min         5.320159    14573.537170         0.675299   \n",
              "25%         9.326780    51590.807850        16.717303   \n",
              "50%        11.389949    69334.966340        22.570085   \n",
              "75%        14.217990    94519.457875        29.983267   \n",
              "max        27.070004   406561.536400        39.629862   \n",
              "\n",
              "       Delinquency - two years  Inquires - six months  Open Account  ...  \\\n",
              "count             47224.000000           47224.000000  47224.000000  ...   \n",
              "mean                  0.326931               0.145477     14.260736  ...   \n",
              "std                   0.802257               0.472270      6.215164  ...   \n",
              "min                   0.000000               0.000000      2.000000  ...   \n",
              "25%                   0.000000               0.000000     10.000000  ...   \n",
              "50%                   0.000000               0.000000     13.000000  ...   \n",
              "75%                   0.000000               0.000000     16.000000  ...   \n",
              "max                   8.000000               4.000000     37.000000  ...   \n",
              "\n",
              "       Total Received Late Fee    Recoveries  Collection Recovery Fee  \\\n",
              "count             47224.000000  47224.000000             47224.000000   \n",
              "mean                  1.160839     59.577048                 1.122379   \n",
              "std                   5.287202    357.158521                 3.446596   \n",
              "min                   0.000004      0.000190                 0.000036   \n",
              "25%                   0.021082      1.639534                 0.476460   \n",
              "50%                   0.043259      3.359693                 0.777921   \n",
              "75%                   0.071965      5.462877                 1.069104   \n",
              "max                  42.618882   4354.467519                50.847053   \n",
              "\n",
              "       Collection 12 months Medical  Last week Pay  Accounts Delinquent  \\\n",
              "count                  47224.000000   47224.000000              47224.0   \n",
              "mean                       0.021536      71.139738                  0.0   \n",
              "std                        0.145163      43.262861                  0.0   \n",
              "min                        0.000000       0.000000                  0.0   \n",
              "25%                        0.000000      35.000000                  0.0   \n",
              "50%                        0.000000      68.000000                  0.0   \n",
              "75%                        0.000000     104.000000                  0.0   \n",
              "max                        1.000000     161.000000                  0.0   \n",
              "\n",
              "       Total Collection Amount  Total Current Balance  \\\n",
              "count             47224.000000           4.722400e+04   \n",
              "mean                142.844253           1.602618e+05   \n",
              "std                 714.093398           1.393696e+05   \n",
              "min                   1.000000           6.170000e+02   \n",
              "25%                  24.000000           5.043925e+04   \n",
              "50%                  35.000000           1.194040e+05   \n",
              "75%                  46.000000           2.292718e+05   \n",
              "max               16421.000000           1.177412e+06   \n",
              "\n",
              "       Total Revolving Credit Limit   Loan Status  \n",
              "count                  47224.000000  47224.000000  \n",
              "mean                   23082.288963      0.092220  \n",
              "std                    20871.011881      0.289339  \n",
              "min                     1000.000000      0.000000  \n",
              "25%                     8172.000000      0.000000  \n",
              "50%                    16693.000000      0.000000  \n",
              "75%                    32033.750000      0.000000  \n",
              "max                   197112.000000      1.000000  \n",
              "\n",
              "[8 rows x 25 columns]"
            ],
            "text/html": [
              "\n",
              "  <div id=\"df-4e229755-eb25-4483-94b0-841b5418060f\">\n",
              "    <div class=\"colab-df-container\">\n",
              "      <div>\n",
              "<style scoped>\n",
              "    .dataframe tbody tr th:only-of-type {\n",
              "        vertical-align: middle;\n",
              "    }\n",
              "\n",
              "    .dataframe tbody tr th {\n",
              "        vertical-align: top;\n",
              "    }\n",
              "\n",
              "    .dataframe thead th {\n",
              "        text-align: right;\n",
              "    }\n",
              "</style>\n",
              "<table border=\"1\" class=\"dataframe\">\n",
              "  <thead>\n",
              "    <tr style=\"text-align: right;\">\n",
              "      <th></th>\n",
              "      <th>Loan Amount</th>\n",
              "      <th>Funded Amount</th>\n",
              "      <th>Funded Amount Investor</th>\n",
              "      <th>Term</th>\n",
              "      <th>Interest Rate</th>\n",
              "      <th>Home Ownership</th>\n",
              "      <th>Debit to Income</th>\n",
              "      <th>Delinquency - two years</th>\n",
              "      <th>Inquires - six months</th>\n",
              "      <th>Open Account</th>\n",
              "      <th>...</th>\n",
              "      <th>Total Received Late Fee</th>\n",
              "      <th>Recoveries</th>\n",
              "      <th>Collection Recovery Fee</th>\n",
              "      <th>Collection 12 months Medical</th>\n",
              "      <th>Last week Pay</th>\n",
              "      <th>Accounts Delinquent</th>\n",
              "      <th>Total Collection Amount</th>\n",
              "      <th>Total Current Balance</th>\n",
              "      <th>Total Revolving Credit Limit</th>\n",
              "      <th>Loan Status</th>\n",
              "    </tr>\n",
              "  </thead>\n",
              "  <tbody>\n",
              "    <tr>\n",
              "      <th>count</th>\n",
              "      <td>47224.000000</td>\n",
              "      <td>47224.000000</td>\n",
              "      <td>47224.000000</td>\n",
              "      <td>47224.000000</td>\n",
              "      <td>47224.000000</td>\n",
              "      <td>47224.000000</td>\n",
              "      <td>47224.000000</td>\n",
              "      <td>47224.000000</td>\n",
              "      <td>47224.000000</td>\n",
              "      <td>47224.000000</td>\n",
              "      <td>...</td>\n",
              "      <td>47224.000000</td>\n",
              "      <td>47224.000000</td>\n",
              "      <td>47224.000000</td>\n",
              "      <td>47224.000000</td>\n",
              "      <td>47224.000000</td>\n",
              "      <td>47224.0</td>\n",
              "      <td>47224.000000</td>\n",
              "      <td>4.722400e+04</td>\n",
              "      <td>47224.000000</td>\n",
              "      <td>47224.000000</td>\n",
              "    </tr>\n",
              "    <tr>\n",
              "      <th>mean</th>\n",
              "      <td>16842.147023</td>\n",
              "      <td>15757.808593</td>\n",
              "      <td>14627.119843</td>\n",
              "      <td>58.167775</td>\n",
              "      <td>11.865266</td>\n",
              "      <td>80509.772500</td>\n",
              "      <td>23.259671</td>\n",
              "      <td>0.326931</td>\n",
              "      <td>0.145477</td>\n",
              "      <td>14.260736</td>\n",
              "      <td>...</td>\n",
              "      <td>1.160839</td>\n",
              "      <td>59.577048</td>\n",
              "      <td>1.122379</td>\n",
              "      <td>0.021536</td>\n",
              "      <td>71.139738</td>\n",
              "      <td>0.0</td>\n",
              "      <td>142.844253</td>\n",
              "      <td>1.602618e+05</td>\n",
              "      <td>23082.288963</td>\n",
              "      <td>0.092220</td>\n",
              "    </tr>\n",
              "    <tr>\n",
              "      <th>std</th>\n",
              "      <td>8361.875310</td>\n",
              "      <td>8144.238979</td>\n",
              "      <td>6773.434634</td>\n",
              "      <td>3.351086</td>\n",
              "      <td>3.713236</td>\n",
              "      <td>44998.317649</td>\n",
              "      <td>8.453230</td>\n",
              "      <td>0.802257</td>\n",
              "      <td>0.472270</td>\n",
              "      <td>6.215164</td>\n",
              "      <td>...</td>\n",
              "      <td>5.287202</td>\n",
              "      <td>357.158521</td>\n",
              "      <td>3.446596</td>\n",
              "      <td>0.145163</td>\n",
              "      <td>43.262861</td>\n",
              "      <td>0.0</td>\n",
              "      <td>714.093398</td>\n",
              "      <td>1.393696e+05</td>\n",
              "      <td>20871.011881</td>\n",
              "      <td>0.289339</td>\n",
              "    </tr>\n",
              "    <tr>\n",
              "      <th>min</th>\n",
              "      <td>1014.000000</td>\n",
              "      <td>1014.000000</td>\n",
              "      <td>1129.708853</td>\n",
              "      <td>36.000000</td>\n",
              "      <td>5.320159</td>\n",
              "      <td>14573.537170</td>\n",
              "      <td>0.675299</td>\n",
              "      <td>0.000000</td>\n",
              "      <td>0.000000</td>\n",
              "      <td>2.000000</td>\n",
              "      <td>...</td>\n",
              "      <td>0.000004</td>\n",
              "      <td>0.000190</td>\n",
              "      <td>0.000036</td>\n",
              "      <td>0.000000</td>\n",
              "      <td>0.000000</td>\n",
              "      <td>0.0</td>\n",
              "      <td>1.000000</td>\n",
              "      <td>6.170000e+02</td>\n",
              "      <td>1000.000000</td>\n",
              "      <td>0.000000</td>\n",
              "    </tr>\n",
              "    <tr>\n",
              "      <th>25%</th>\n",
              "      <td>10004.000000</td>\n",
              "      <td>9270.750000</td>\n",
              "      <td>9841.754930</td>\n",
              "      <td>58.000000</td>\n",
              "      <td>9.326780</td>\n",
              "      <td>51590.807850</td>\n",
              "      <td>16.717303</td>\n",
              "      <td>0.000000</td>\n",
              "      <td>0.000000</td>\n",
              "      <td>10.000000</td>\n",
              "      <td>...</td>\n",
              "      <td>0.021082</td>\n",
              "      <td>1.639534</td>\n",
              "      <td>0.476460</td>\n",
              "      <td>0.000000</td>\n",
              "      <td>35.000000</td>\n",
              "      <td>0.0</td>\n",
              "      <td>24.000000</td>\n",
              "      <td>5.043925e+04</td>\n",
              "      <td>8172.000000</td>\n",
              "      <td>0.000000</td>\n",
              "    </tr>\n",
              "    <tr>\n",
              "      <th>50%</th>\n",
              "      <td>16065.500000</td>\n",
              "      <td>13020.500000</td>\n",
              "      <td>12827.552670</td>\n",
              "      <td>59.000000</td>\n",
              "      <td>11.389949</td>\n",
              "      <td>69334.966340</td>\n",
              "      <td>22.570085</td>\n",
              "      <td>0.000000</td>\n",
              "      <td>0.000000</td>\n",
              "      <td>13.000000</td>\n",
              "      <td>...</td>\n",
              "      <td>0.043259</td>\n",
              "      <td>3.359693</td>\n",
              "      <td>0.777921</td>\n",
              "      <td>0.000000</td>\n",
              "      <td>68.000000</td>\n",
              "      <td>0.0</td>\n",
              "      <td>35.000000</td>\n",
              "      <td>1.194040e+05</td>\n",
              "      <td>16693.000000</td>\n",
              "      <td>0.000000</td>\n",
              "    </tr>\n",
              "    <tr>\n",
              "      <th>75%</th>\n",
              "      <td>22090.000000</td>\n",
              "      <td>21784.000000</td>\n",
              "      <td>17787.776040</td>\n",
              "      <td>59.000000</td>\n",
              "      <td>14.217990</td>\n",
              "      <td>94519.457875</td>\n",
              "      <td>29.983267</td>\n",
              "      <td>0.000000</td>\n",
              "      <td>0.000000</td>\n",
              "      <td>16.000000</td>\n",
              "      <td>...</td>\n",
              "      <td>0.071965</td>\n",
              "      <td>5.462877</td>\n",
              "      <td>1.069104</td>\n",
              "      <td>0.000000</td>\n",
              "      <td>104.000000</td>\n",
              "      <td>0.0</td>\n",
              "      <td>46.000000</td>\n",
              "      <td>2.292718e+05</td>\n",
              "      <td>32033.750000</td>\n",
              "      <td>0.000000</td>\n",
              "    </tr>\n",
              "    <tr>\n",
              "      <th>max</th>\n",
              "      <td>35000.000000</td>\n",
              "      <td>34999.000000</td>\n",
              "      <td>34999.746430</td>\n",
              "      <td>59.000000</td>\n",
              "      <td>27.070004</td>\n",
              "      <td>406561.536400</td>\n",
              "      <td>39.629862</td>\n",
              "      <td>8.000000</td>\n",
              "      <td>4.000000</td>\n",
              "      <td>37.000000</td>\n",
              "      <td>...</td>\n",
              "      <td>42.618882</td>\n",
              "      <td>4354.467519</td>\n",
              "      <td>50.847053</td>\n",
              "      <td>1.000000</td>\n",
              "      <td>161.000000</td>\n",
              "      <td>0.0</td>\n",
              "      <td>16421.000000</td>\n",
              "      <td>1.177412e+06</td>\n",
              "      <td>197112.000000</td>\n",
              "      <td>1.000000</td>\n",
              "    </tr>\n",
              "  </tbody>\n",
              "</table>\n",
              "<p>8 rows × 25 columns</p>\n",
              "</div>\n",
              "      <button class=\"colab-df-convert\" onclick=\"convertToInteractive('df-4e229755-eb25-4483-94b0-841b5418060f')\"\n",
              "              title=\"Convert this dataframe to an interactive table.\"\n",
              "              style=\"display:none;\">\n",
              "        \n",
              "  <svg xmlns=\"http://www.w3.org/2000/svg\" height=\"24px\"viewBox=\"0 0 24 24\"\n",
              "       width=\"24px\">\n",
              "    <path d=\"M0 0h24v24H0V0z\" fill=\"none\"/>\n",
              "    <path d=\"M18.56 5.44l.94 2.06.94-2.06 2.06-.94-2.06-.94-.94-2.06-.94 2.06-2.06.94zm-11 1L8.5 8.5l.94-2.06 2.06-.94-2.06-.94L8.5 2.5l-.94 2.06-2.06.94zm10 10l.94 2.06.94-2.06 2.06-.94-2.06-.94-.94-2.06-.94 2.06-2.06.94z\"/><path d=\"M17.41 7.96l-1.37-1.37c-.4-.4-.92-.59-1.43-.59-.52 0-1.04.2-1.43.59L10.3 9.45l-7.72 7.72c-.78.78-.78 2.05 0 2.83L4 21.41c.39.39.9.59 1.41.59.51 0 1.02-.2 1.41-.59l7.78-7.78 2.81-2.81c.8-.78.8-2.07 0-2.86zM5.41 20L4 18.59l7.72-7.72 1.47 1.35L5.41 20z\"/>\n",
              "  </svg>\n",
              "      </button>\n",
              "      \n",
              "  <style>\n",
              "    .colab-df-container {\n",
              "      display:flex;\n",
              "      flex-wrap:wrap;\n",
              "      gap: 12px;\n",
              "    }\n",
              "\n",
              "    .colab-df-convert {\n",
              "      background-color: #E8F0FE;\n",
              "      border: none;\n",
              "      border-radius: 50%;\n",
              "      cursor: pointer;\n",
              "      display: none;\n",
              "      fill: #1967D2;\n",
              "      height: 32px;\n",
              "      padding: 0 0 0 0;\n",
              "      width: 32px;\n",
              "    }\n",
              "\n",
              "    .colab-df-convert:hover {\n",
              "      background-color: #E2EBFA;\n",
              "      box-shadow: 0px 1px 2px rgba(60, 64, 67, 0.3), 0px 1px 3px 1px rgba(60, 64, 67, 0.15);\n",
              "      fill: #174EA6;\n",
              "    }\n",
              "\n",
              "    [theme=dark] .colab-df-convert {\n",
              "      background-color: #3B4455;\n",
              "      fill: #D2E3FC;\n",
              "    }\n",
              "\n",
              "    [theme=dark] .colab-df-convert:hover {\n",
              "      background-color: #434B5C;\n",
              "      box-shadow: 0px 1px 3px 1px rgba(0, 0, 0, 0.15);\n",
              "      filter: drop-shadow(0px 1px 2px rgba(0, 0, 0, 0.3));\n",
              "      fill: #FFFFFF;\n",
              "    }\n",
              "  </style>\n",
              "\n",
              "      <script>\n",
              "        const buttonEl =\n",
              "          document.querySelector('#df-4e229755-eb25-4483-94b0-841b5418060f button.colab-df-convert');\n",
              "        buttonEl.style.display =\n",
              "          google.colab.kernel.accessAllowed ? 'block' : 'none';\n",
              "\n",
              "        async function convertToInteractive(key) {\n",
              "          const element = document.querySelector('#df-4e229755-eb25-4483-94b0-841b5418060f');\n",
              "          const dataTable =\n",
              "            await google.colab.kernel.invokeFunction('convertToInteractive',\n",
              "                                                     [key], {});\n",
              "          if (!dataTable) return;\n",
              "\n",
              "          const docLinkHtml = 'Like what you see? Visit the ' +\n",
              "            '<a target=\"_blank\" href=https://colab.research.google.com/notebooks/data_table.ipynb>data table notebook</a>'\n",
              "            + ' to learn more about interactive tables.';\n",
              "          element.innerHTML = '';\n",
              "          dataTable['output_type'] = 'display_data';\n",
              "          await google.colab.output.renderOutput(dataTable, element);\n",
              "          const docLink = document.createElement('div');\n",
              "          docLink.innerHTML = docLinkHtml;\n",
              "          element.appendChild(docLink);\n",
              "        }\n",
              "      </script>\n",
              "    </div>\n",
              "  </div>\n",
              "  "
            ]
          },
          "metadata": {},
          "execution_count": 7
        }
      ]
    },
    {
      "cell_type": "code",
      "source": [
        "train.info()"
      ],
      "metadata": {
        "id": "Oeub0Xc-s6hL",
        "colab": {
          "base_uri": "https://localhost:8080/"
        },
        "outputId": "b453a48f-b5b7-4fab-dd59-8d2fd167c19f"
      },
      "execution_count": null,
      "outputs": [
        {
          "output_type": "stream",
          "name": "stdout",
          "text": [
            "<class 'pandas.core.frame.DataFrame'>\n",
            "RangeIndex: 47224 entries, 0 to 47223\n",
            "Data columns (total 34 columns):\n",
            " #   Column                        Non-Null Count  Dtype  \n",
            "---  ------                        --------------  -----  \n",
            " 0   Loan Amount                   47224 non-null  int64  \n",
            " 1   Funded Amount                 47224 non-null  int64  \n",
            " 2   Funded Amount Investor        47224 non-null  float64\n",
            " 3   Term                          47224 non-null  int64  \n",
            " 4   Batch Enrolled                47224 non-null  object \n",
            " 5   Interest Rate                 47224 non-null  float64\n",
            " 6   Grade                         47224 non-null  object \n",
            " 7   Sub Grade                     47224 non-null  object \n",
            " 8   Employment Duration           47224 non-null  object \n",
            " 9   Home Ownership                47224 non-null  float64\n",
            " 10  Verification Status           47224 non-null  object \n",
            " 11  Payment Plan                  47224 non-null  object \n",
            " 12  Loan Title                    47224 non-null  object \n",
            " 13  Debit to Income               47224 non-null  float64\n",
            " 14  Delinquency - two years       47224 non-null  int64  \n",
            " 15  Inquires - six months         47224 non-null  int64  \n",
            " 16  Open Account                  47224 non-null  int64  \n",
            " 17  Public Record                 47224 non-null  int64  \n",
            " 18  Revolving Balance             47224 non-null  int64  \n",
            " 19  Revolving Utilities           47224 non-null  float64\n",
            " 20  Total Accounts                47224 non-null  int64  \n",
            " 21  Initial List Status           47224 non-null  object \n",
            " 22  Total Received Interest       47224 non-null  float64\n",
            " 23  Total Received Late Fee       47224 non-null  float64\n",
            " 24  Recoveries                    47224 non-null  float64\n",
            " 25  Collection Recovery Fee       47224 non-null  float64\n",
            " 26  Collection 12 months Medical  47224 non-null  int64  \n",
            " 27  Application Type              47224 non-null  object \n",
            " 28  Last week Pay                 47224 non-null  int64  \n",
            " 29  Accounts Delinquent           47224 non-null  int64  \n",
            " 30  Total Collection Amount       47224 non-null  int64  \n",
            " 31  Total Current Balance         47224 non-null  int64  \n",
            " 32  Total Revolving Credit Limit  47224 non-null  int64  \n",
            " 33  Loan Status                   47224 non-null  int64  \n",
            "dtypes: float64(9), int64(16), object(9)\n",
            "memory usage: 12.2+ MB\n"
          ]
        }
      ]
    },
    {
      "cell_type": "markdown",
      "source": [
        "# 1. Feature 확인하고 처리하기"
      ],
      "metadata": {
        "id": "K3Oz-5C6VK20"
      }
    },
    {
      "cell_type": "markdown",
      "source": [
        "Loan Title을 확인해보자"
      ],
      "metadata": {
        "id": "28-vdomDVlKt"
      }
    },
    {
      "cell_type": "code",
      "source": [
        "print(train['Loan Title'].nunique())\n",
        "print(train['Loan Title'].value_counts())"
      ],
      "metadata": {
        "id": "h_tbkLOfVRz2",
        "colab": {
          "base_uri": "https://localhost:8080/"
        },
        "outputId": "d2a8efb3-ecd0-472c-88f1-f18d57af29cb"
      },
      "execution_count": null,
      "outputs": [
        {
          "output_type": "stream",
          "name": "stdout",
          "text": [
            "109\n",
            "Credit card refinancing    21562\n",
            "Debt consolidation         17354\n",
            "Debt Consolidation          2475\n",
            "Other                       1708\n",
            "Home improvement            1532\n",
            "                           ...  \n",
            "bills                          4\n",
            "Personal loan                  3\n",
            "CC                             2\n",
            "Getting Ahead                  2\n",
            "Credit                         2\n",
            "Name: Loan Title, Length: 109, dtype: int64\n"
          ]
        }
      ]
    },
    {
      "cell_type": "code",
      "source": [
        "train['Loan Title'].unique()"
      ],
      "metadata": {
        "id": "iDY9m88AWd8o",
        "colab": {
          "base_uri": "https://localhost:8080/"
        },
        "outputId": "8de17e09-ee7a-4725-9b92-4a7f6576c16f"
      },
      "execution_count": null,
      "outputs": [
        {
          "output_type": "execute_result",
          "data": {
            "text/plain": [
              "array(['Credit card refinancing', 'Debt consolidation',\n",
              "       'Credit card refinance', 'Credit Card Consolidation',\n",
              "       'Debt Consolidation', 'Home improvement', 'Consolidation', 'Other',\n",
              "       'relief', 'debt consolidation loan', 'Major purchase', 'Loan',\n",
              "       'credit card refinance', 'Medical', 'Pool', 'Vacation',\n",
              "       'CC consolidation', 'Medical expenses', 'Moving and relocation',\n",
              "       'payoff', 'Personal Loan', 'debt consolidation', 'Debt Loan',\n",
              "       'House', 'consolidation loan', 'consolidate', 'Credit payoff',\n",
              "       'Bathroom', 'Green loan', 'Debt Payoff', 'Consolidate', 'Business',\n",
              "       'Lending Club', 'Refinance', 'Home Improvement',\n",
              "       'Credit card payoff', 'Credit Card Payoff',\n",
              "       'Debt Consolidation Loan', 'MYLOAN', 'Car financing',\n",
              "       'Home buying', 'Home loan', 'Freedom', 'Credit Cards',\n",
              "       'Credit Card Loan', 'Credit Card Debt', 'Dept consolidation',\n",
              "       'refi', 'CONSOLIDATE', 'Getting Ahead', 'Car Loan', 'personal',\n",
              "       'Pay Off', 'Debt', 'consolidation', 'Credit Card Refinance',\n",
              "       'conso', 'Debt Reduction', 'My Loan', 'Credit Card', 'debt',\n",
              "       'Refinance Loan', 'Loan 1', 'Credit Card Refi',\n",
              "       'Credit Consolidation', 'Debt Free', 'Personal', 'CC Refinance',\n",
              "       'Card Consolidation', 'Cards', 'debt loan', 'Bill Consolidation',\n",
              "       'Payoff', 'Bill Payoff', 'Consolidation Loan', 'get out of debt',\n",
              "       'Debt Consolidation 2013', 'Credit card pay off', 'Lending loan',\n",
              "       'CC-Refinance', 'DEBT CONSOLIDATION', 'Credit Card Paydown',\n",
              "       'Medical loan', 'home improvement', 'CC Refi', 'credit pay off',\n",
              "       'cards', 'CC Loan', 'Credit Card Refinance Loan',\n",
              "       'Home Improvement Loan', 'loan1', 'Credit Loan', 'pay off bills',\n",
              "       'Home', 'CC Consolidation', 'Debt payoff',\n",
              "       'credit card consolidation', 'Get Debt Free', 'CONSOLIDATION',\n",
              "       'CC', 'Consolidated', 'vacation', 'Credit Card consolidation',\n",
              "       'Wedding Loan', 'credit card', 'Loan Consolidation', 'bills',\n",
              "       'Personal loan', 'Credit'], dtype=object)"
            ]
          },
          "metadata": {},
          "execution_count": 10
        }
      ]
    },
    {
      "cell_type": "markdown",
      "source": [
        "Credit card payoff와 Credit Card Payoff는 같지만 대소문자를 구별하여 다른 클래스로 분류되었다. 이러한 것들을 처리해주자"
      ],
      "metadata": {
        "id": "A_9iOmgbW5nh"
      }
    },
    {
      "cell_type": "code",
      "source": [
        "def concat_col(x):\n",
        "  return x.lower()\n",
        "\n",
        "train['Loan Title'] = train['Loan Title'].apply(concat_col)\n",
        "test['Loan Title'] = test['Loan Title'].apply(concat_col)"
      ],
      "metadata": {
        "id": "C1r7GbCCYK-m"
      },
      "execution_count": null,
      "outputs": []
    },
    {
      "cell_type": "code",
      "source": [
        "train['Loan Title'].nunique()"
      ],
      "metadata": {
        "id": "MAEAz4nYYhrR",
        "colab": {
          "base_uri": "https://localhost:8080/"
        },
        "outputId": "18c9c3c9-18fe-4380-b8eb-ab7033312329"
      },
      "execution_count": null,
      "outputs": [
        {
          "output_type": "execute_result",
          "data": {
            "text/plain": [
              "83"
            ]
          },
          "metadata": {},
          "execution_count": 12
        }
      ]
    },
    {
      "cell_type": "markdown",
      "source": [
        "109개에서 83개까지 줄었다."
      ],
      "metadata": {
        "id": "5M_1g7naYtei"
      }
    },
    {
      "cell_type": "code",
      "source": [
        "cate_train = [i for i in train.select_dtypes(include='object').columns]\n",
        "cate_test = [i for i in test.select_dtypes(include='object').columns]"
      ],
      "metadata": {
        "id": "zOb-Mi2HiX-B"
      },
      "execution_count": null,
      "outputs": []
    },
    {
      "cell_type": "code",
      "source": [
        "train[cate_train].nunique()"
      ],
      "metadata": {
        "id": "8AoZNuUE2XmW",
        "colab": {
          "base_uri": "https://localhost:8080/"
        },
        "outputId": "72e45549-cb6d-43d9-ca61-a46b6f3a5e2e"
      },
      "execution_count": null,
      "outputs": [
        {
          "output_type": "execute_result",
          "data": {
            "text/plain": [
              "Batch Enrolled         41\n",
              "Grade                   7\n",
              "Sub Grade              35\n",
              "Employment Duration     3\n",
              "Verification Status     3\n",
              "Payment Plan            1\n",
              "Loan Title             83\n",
              "Initial List Status     2\n",
              "Application Type        2\n",
              "dtype: int64"
            ]
          },
          "metadata": {},
          "execution_count": 14
        }
      ]
    },
    {
      "cell_type": "code",
      "source": [
        "# 데이터 프레임에서 Grade와 Sub Grade 열 가져오기\n",
        "grades = train['Grade']\n",
        "sub_grades = train['Sub Grade']\n",
        "\n",
        "# 첫 글자가 일치하지 않는 데이터 개수 카운트\n",
        "count = sum(1 for grade, sub_grade in zip(grades, sub_grades) if grade[0] != sub_grade[0])\n",
        "\n",
        "print(\"첫 글자가 일치하지 않는 데이터의 개수:\", count)"
      ],
      "metadata": {
        "id": "pWhAW9A0a5tc",
        "colab": {
          "base_uri": "https://localhost:8080/"
        },
        "outputId": "40ef3577-ab71-49e2-93ba-ef5dc4b27ac7"
      },
      "execution_count": null,
      "outputs": [
        {
          "output_type": "stream",
          "name": "stdout",
          "text": [
            "첫 글자가 일치하지 않는 데이터의 개수: 37398\n"
          ]
        }
      ]
    },
    {
      "cell_type": "markdown",
      "source": [
        "보통 은행사는 Sub Grade의 첫 알파벳과 Grade가 같다. 이 데이터는 그렇지 않으므로, 두 column을 병합하기에는 힘들어 보입니다."
      ],
      "metadata": {
        "id": "9yDM4vySa_Sh"
      }
    },
    {
      "cell_type": "markdown",
      "source": [
        "# 2. 결측치 및 중복값 제거하기"
      ],
      "metadata": {
        "id": "65n8Njmhs_1m"
      }
    },
    {
      "cell_type": "code",
      "source": [
        "# 중복값 확인\n",
        "print(train.duplicated().sum())\n",
        "\n",
        "# 결측치 확인\n",
        "print(train.isnull().sum().sum())"
      ],
      "metadata": {
        "id": "fHgU0g1vs8Tq",
        "colab": {
          "base_uri": "https://localhost:8080/"
        },
        "outputId": "f5eee96b-5aa2-4584-dfbc-c0ed9e4a4b81"
      },
      "execution_count": null,
      "outputs": [
        {
          "output_type": "stream",
          "name": "stdout",
          "text": [
            "0\n",
            "0\n"
          ]
        }
      ]
    },
    {
      "cell_type": "markdown",
      "source": [
        "모두 없다."
      ],
      "metadata": {
        "id": "FML_cE_QtaKZ"
      }
    },
    {
      "cell_type": "markdown",
      "source": [
        "# 3. 이상치 확인하기"
      ],
      "metadata": {
        "id": "D2xzOUe1tkZj"
      }
    },
    {
      "cell_type": "markdown",
      "source": [
        "이상치를 확인하기 전에, 우선 target 데이터의 분포를 확인하자"
      ],
      "metadata": {
        "id": "PXamVa8jtmGb"
      }
    },
    {
      "cell_type": "code",
      "source": [
        "train['Loan Status'].value_counts()\n",
        "zero = len(train[train['Loan Status'] == 0]) / len(train) * 100\n",
        "one = 100 - zero\n",
        "print('{}% of values are 0 \\n {}% values are 1'.format(round(zero, 2), round(one, 2)))"
      ],
      "metadata": {
        "id": "a8ES7cXCtZQm",
        "colab": {
          "base_uri": "https://localhost:8080/"
        },
        "outputId": "6a13f7af-9612-4c4f-9ead-c6ffd5feef66"
      },
      "execution_count": null,
      "outputs": [
        {
          "output_type": "stream",
          "name": "stdout",
          "text": [
            "90.78% of values are 0 \n",
            " 9.22% values are 1\n"
          ]
        }
      ]
    },
    {
      "cell_type": "markdown",
      "source": [
        "target 데이터가 상당히 편향되어 있음을 알 수 있다."
      ],
      "metadata": {
        "id": "TE-efmCNt2TU"
      }
    },
    {
      "cell_type": "code",
      "source": [
        "train.dtypes.value_counts()"
      ],
      "metadata": {
        "id": "oSqaALNyt1gI",
        "colab": {
          "base_uri": "https://localhost:8080/"
        },
        "outputId": "3a19b4f3-a323-41be-ac45-9bf593e9dfef"
      },
      "execution_count": null,
      "outputs": [
        {
          "output_type": "execute_result",
          "data": {
            "text/plain": [
              "int64      16\n",
              "float64     9\n",
              "object      9\n",
              "dtype: int64"
            ]
          },
          "metadata": {},
          "execution_count": 18
        }
      ]
    },
    {
      "cell_type": "code",
      "source": [
        "train.nunique()"
      ],
      "metadata": {
        "id": "hjwim8u8wEKv",
        "colab": {
          "base_uri": "https://localhost:8080/"
        },
        "outputId": "8a2c1780-695f-4e96-a964-db512484be65"
      },
      "execution_count": null,
      "outputs": [
        {
          "output_type": "execute_result",
          "data": {
            "text/plain": [
              "Loan Amount                     23997\n",
              "Funded Amount                   21452\n",
              "Funded Amount Investor          47209\n",
              "Term                                3\n",
              "Batch Enrolled                     41\n",
              "Interest Rate                   47218\n",
              "Grade                               7\n",
              "Sub Grade                          35\n",
              "Employment Duration                 3\n",
              "Home Ownership                  47219\n",
              "Verification Status                 3\n",
              "Payment Plan                        1\n",
              "Loan Title                         83\n",
              "Debit to Income                 47219\n",
              "Delinquency - two years             9\n",
              "Inquires - six months               5\n",
              "Open Account                       36\n",
              "Public Record                       5\n",
              "Revolving Balance               18031\n",
              "Revolving Utilities             47222\n",
              "Total Accounts                     69\n",
              "Initial List Status                 2\n",
              "Total Received Interest         47219\n",
              "Total Received Late Fee         47190\n",
              "Recoveries                      47183\n",
              "Collection Recovery Fee         47148\n",
              "Collection 12 months Medical        2\n",
              "Application Type                    2\n",
              "Last week Pay                     162\n",
              "Accounts Delinquent                 1\n",
              "Total Collection Amount          1794\n",
              "Total Current Balance           43926\n",
              "Total Revolving Credit Limit    30497\n",
              "Loan Status                         2\n",
              "dtype: int64"
            ]
          },
          "metadata": {},
          "execution_count": 19
        }
      ]
    },
    {
      "cell_type": "markdown",
      "source": [
        "nunique의 값이 1인 경우는 의미 없는 feature이므로 삭제해줍니다."
      ],
      "metadata": {
        "id": "eFNcnNNrwXJG"
      }
    },
    {
      "cell_type": "code",
      "source": [
        "# 값이 unique한 것이 하나만 있는 feature는 삭제해준다.\n",
        "train.drop(['Accounts Delinquent', 'Payment Plan'], 1, inplace=True)\n",
        "test.drop(['Accounts Delinquent','Payment Plan'], 1, inplace=True)"
      ],
      "metadata": {
        "id": "5FOsT5f4wHnr"
      },
      "execution_count": null,
      "outputs": []
    },
    {
      "cell_type": "markdown",
      "source": [
        "#### 3-1. Numeric Type outlier Detection"
      ],
      "metadata": {
        "id": "GKn38ExTkgtO"
      }
    },
    {
      "cell_type": "code",
      "source": [
        "# numeric type과 object type의 데이터를 나눠주겠습니다.\n",
        "num_train = [i for i in train.select_dtypes(exclude='object').columns]\n",
        "num_test = [i for i in test.select_dtypes(exclude='object').columns]"
      ],
      "metadata": {
        "id": "4qIHqtAewcGi"
      },
      "execution_count": null,
      "outputs": []
    },
    {
      "cell_type": "code",
      "source": [
        "def find_outliers_IQR(data):\n",
        "    Q1 = np.percentile(data, 25)\n",
        "    Q3 = np.percentile(data, 75)\n",
        "    IQR = Q3 - Q1\n",
        "    lower_bound = Q1 - 1.5 * IQR\n",
        "    upper_bound = Q3 + 1.5 * IQR\n",
        "    outliers = np.where((data < lower_bound) | (data > upper_bound))[0]\n",
        "    return outliers\n",
        "\n",
        "def detect_outliers(df):\n",
        "    cols = []\n",
        "    outliers = []\n",
        "    for col in df.select_dtypes(include=['int', 'float']):\n",
        "        outlier = find_outliers_IQR(df[col])\n",
        "        if(len(outlier) != 0):\n",
        "          print(col,'에서의 outlier의 개수: ',len(outlier))\n",
        "          cols.append(col)\n",
        "          outliers.append(outlier)\n",
        "\n",
        "    return cols, outliers"
      ],
      "metadata": {
        "id": "wRsr8_v4cvAu"
      },
      "execution_count": null,
      "outputs": []
    },
    {
      "cell_type": "code",
      "source": [
        "cols, outliers = detect_outliers(train)"
      ],
      "metadata": {
        "id": "uFzvgyMudVJ4",
        "colab": {
          "base_uri": "https://localhost:8080/"
        },
        "outputId": "012e742a-e1ff-48c4-e940-639168f20428"
      },
      "execution_count": null,
      "outputs": [
        {
          "output_type": "stream",
          "name": "stdout",
          "text": [
            "Funded Amount Investor 에서의 outlier의 개수:  2175\n",
            "Term 에서의 outlier의 개수:  1035\n",
            "Interest Rate 에서의 outlier의 개수:  593\n",
            "Home Ownership 에서의 outlier의 개수:  2864\n",
            "Delinquency - two years 에서의 outlier의 개수:  10750\n",
            "Inquires - six months 에서의 outlier의 개수:  4882\n",
            "Open Account 에서의 outlier의 개수:  3921\n",
            "Public Record 에서의 outlier의 개수:  3228\n",
            "Revolving Balance 에서의 outlier의 개수:  2584\n",
            "Total Accounts 에서의 outlier의 개수:  1001\n",
            "Total Received Interest 에서의 outlier의 개수:  3502\n",
            "Total Received Late Fee 에서의 outlier의 개수:  2404\n",
            "Recoveries 에서의 outlier의 개수:  1605\n",
            "Collection Recovery Fee 에서의 outlier의 개수:  561\n",
            "Collection 12 months Medical 에서의 outlier의 개수:  1017\n",
            "Total Collection Amount 에서의 outlier의 개수:  3329\n",
            "Total Current Balance 에서의 outlier의 개수:  1415\n",
            "Total Revolving Credit Limit 에서의 outlier의 개수:  1885\n",
            "Loan Status 에서의 outlier의 개수:  4355\n"
          ]
        }
      ]
    },
    {
      "cell_type": "code",
      "source": [
        "def merge_arrays(arrays):\n",
        "  merged_array = []\n",
        "  for array in arrays:\n",
        "    merged_array.extend(array)\n",
        "\n",
        "  merged_array = list(set(merged_array))  # 중복 제거\n",
        "\n",
        "  return merged_array\n",
        "\n",
        "res_outlier = merge_arrays(outliers)"
      ],
      "metadata": {
        "id": "b9ffaWbkeAhq"
      },
      "execution_count": null,
      "outputs": []
    },
    {
      "cell_type": "code",
      "source": [
        "len(res_outlier)"
      ],
      "metadata": {
        "id": "yurAW1rCe8cK",
        "colab": {
          "base_uri": "https://localhost:8080/"
        },
        "outputId": "b8ec6b7e-671d-443a-cb24-1576d80141cd"
      },
      "execution_count": null,
      "outputs": [
        {
          "output_type": "execute_result",
          "data": {
            "text/plain": [
              "32379"
            ]
          },
          "metadata": {},
          "execution_count": 25
        }
      ]
    },
    {
      "cell_type": "markdown",
      "source": [
        "통계적 기법으로 구한 이상치는 너무 값이 많아 실질적으로 처리하기는 어려워보인다."
      ],
      "metadata": {
        "id": "uJnggiOmda-K"
      }
    },
    {
      "cell_type": "code",
      "source": [
        "from sklearn.ensemble import IsolationForest\n",
        "\n",
        "# Isolation Forest 모델 생성\n",
        "model = IsolationForest(contamination=0.1)  # 이상치 비율을 설정합니다.\n",
        "\n",
        "# 모델 학습\n",
        "model.fit(train[num_train])\n",
        "\n",
        "# 이상치 탐지\n",
        "outlier_scores = model.decision_function(train[num_train])\n",
        "outliers = outlier_scores < 0\n",
        "\n",
        "# 이상치 출력\n",
        "print(\"이상치 개수:\", sum(outliers))\n",
        "print(\"이상치 인덱스:\", np.where(outliers)[0])"
      ],
      "metadata": {
        "id": "QVCH4GRfx2J_",
        "colab": {
          "base_uri": "https://localhost:8080/"
        },
        "outputId": "89af5c6a-a2c1-47e0-f4b0-762250480042"
      },
      "execution_count": null,
      "outputs": [
        {
          "output_type": "stream",
          "name": "stdout",
          "text": [
            "이상치 개수: 4723\n",
            "이상치 인덱스: [    3    26    27 ... 47207 47214 47220]\n"
          ]
        }
      ]
    },
    {
      "cell_type": "markdown",
      "source": [
        "numeric type의 이상치를 제거하자"
      ],
      "metadata": {
        "id": "sjndMmmagsEI"
      }
    },
    {
      "cell_type": "code",
      "source": [
        "# 이상치 인덱스를 삭제\n",
        "train.drop(np.where(outliers)[0])\n",
        "train = train.reset_index(drop=True)"
      ],
      "metadata": {
        "id": "zBhqWVsafzfC"
      },
      "execution_count": null,
      "outputs": []
    },
    {
      "cell_type": "markdown",
      "source": [
        "### 3-2. Categorical Type Outlier Detection"
      ],
      "metadata": {
        "id": "Ub6xC8n2kckI"
      }
    },
    {
      "cell_type": "code",
      "source": [
        "cate_train = [i for i in train.select_dtypes(include='object').columns]\n",
        "cate_test = [i for i in test.select_dtypes(include='object').columns]\n",
        "train[cate_train].nunique()"
      ],
      "metadata": {
        "id": "12lAqmW6fW-i",
        "colab": {
          "base_uri": "https://localhost:8080/"
        },
        "outputId": "7ad402e4-76dd-4b35-9ee8-576a33e94398"
      },
      "execution_count": null,
      "outputs": [
        {
          "output_type": "execute_result",
          "data": {
            "text/plain": [
              "Batch Enrolled         41\n",
              "Grade                   7\n",
              "Sub Grade              35\n",
              "Employment Duration     3\n",
              "Verification Status     3\n",
              "Loan Title             83\n",
              "Initial List Status     2\n",
              "Application Type        2\n",
              "dtype: int64"
            ]
          },
          "metadata": {},
          "execution_count": 28
        }
      ]
    },
    {
      "cell_type": "markdown",
      "source": [
        "음.. 보면 값이 많은 Batch Enrolled, Sub Grade, Loan Title만 진행해주면 될 듯 하다."
      ],
      "metadata": {
        "id": "KZia_8-i2qqy"
      }
    },
    {
      "cell_type": "code",
      "source": [
        "be_df = pd.DataFrame(train['Batch Enrolled'].value_counts())\n",
        "loc = find_outliers_IQR(be_df['Batch Enrolled'])"
      ],
      "metadata": {
        "id": "0JlMZMHufn-M"
      },
      "execution_count": null,
      "outputs": []
    },
    {
      "cell_type": "code",
      "source": [
        "be_df.iloc[loc]"
      ],
      "metadata": {
        "id": "dNf-Fr8igGXT",
        "colab": {
          "base_uri": "https://localhost:8080/",
          "height": 81
        },
        "outputId": "1dca6382-ce57-4180-d104-d16f17750767"
      },
      "execution_count": null,
      "outputs": [
        {
          "output_type": "execute_result",
          "data": {
            "text/plain": [
              "            Batch Enrolled\n",
              "BAT3873588            2549"
            ],
            "text/html": [
              "\n",
              "  <div id=\"df-8d20e88d-5cc6-42f8-b8ef-37f795d61e34\">\n",
              "    <div class=\"colab-df-container\">\n",
              "      <div>\n",
              "<style scoped>\n",
              "    .dataframe tbody tr th:only-of-type {\n",
              "        vertical-align: middle;\n",
              "    }\n",
              "\n",
              "    .dataframe tbody tr th {\n",
              "        vertical-align: top;\n",
              "    }\n",
              "\n",
              "    .dataframe thead th {\n",
              "        text-align: right;\n",
              "    }\n",
              "</style>\n",
              "<table border=\"1\" class=\"dataframe\">\n",
              "  <thead>\n",
              "    <tr style=\"text-align: right;\">\n",
              "      <th></th>\n",
              "      <th>Batch Enrolled</th>\n",
              "    </tr>\n",
              "  </thead>\n",
              "  <tbody>\n",
              "    <tr>\n",
              "      <th>BAT3873588</th>\n",
              "      <td>2549</td>\n",
              "    </tr>\n",
              "  </tbody>\n",
              "</table>\n",
              "</div>\n",
              "      <button class=\"colab-df-convert\" onclick=\"convertToInteractive('df-8d20e88d-5cc6-42f8-b8ef-37f795d61e34')\"\n",
              "              title=\"Convert this dataframe to an interactive table.\"\n",
              "              style=\"display:none;\">\n",
              "        \n",
              "  <svg xmlns=\"http://www.w3.org/2000/svg\" height=\"24px\"viewBox=\"0 0 24 24\"\n",
              "       width=\"24px\">\n",
              "    <path d=\"M0 0h24v24H0V0z\" fill=\"none\"/>\n",
              "    <path d=\"M18.56 5.44l.94 2.06.94-2.06 2.06-.94-2.06-.94-.94-2.06-.94 2.06-2.06.94zm-11 1L8.5 8.5l.94-2.06 2.06-.94-2.06-.94L8.5 2.5l-.94 2.06-2.06.94zm10 10l.94 2.06.94-2.06 2.06-.94-2.06-.94-.94-2.06-.94 2.06-2.06.94z\"/><path d=\"M17.41 7.96l-1.37-1.37c-.4-.4-.92-.59-1.43-.59-.52 0-1.04.2-1.43.59L10.3 9.45l-7.72 7.72c-.78.78-.78 2.05 0 2.83L4 21.41c.39.39.9.59 1.41.59.51 0 1.02-.2 1.41-.59l7.78-7.78 2.81-2.81c.8-.78.8-2.07 0-2.86zM5.41 20L4 18.59l7.72-7.72 1.47 1.35L5.41 20z\"/>\n",
              "  </svg>\n",
              "      </button>\n",
              "      \n",
              "  <style>\n",
              "    .colab-df-container {\n",
              "      display:flex;\n",
              "      flex-wrap:wrap;\n",
              "      gap: 12px;\n",
              "    }\n",
              "\n",
              "    .colab-df-convert {\n",
              "      background-color: #E8F0FE;\n",
              "      border: none;\n",
              "      border-radius: 50%;\n",
              "      cursor: pointer;\n",
              "      display: none;\n",
              "      fill: #1967D2;\n",
              "      height: 32px;\n",
              "      padding: 0 0 0 0;\n",
              "      width: 32px;\n",
              "    }\n",
              "\n",
              "    .colab-df-convert:hover {\n",
              "      background-color: #E2EBFA;\n",
              "      box-shadow: 0px 1px 2px rgba(60, 64, 67, 0.3), 0px 1px 3px 1px rgba(60, 64, 67, 0.15);\n",
              "      fill: #174EA6;\n",
              "    }\n",
              "\n",
              "    [theme=dark] .colab-df-convert {\n",
              "      background-color: #3B4455;\n",
              "      fill: #D2E3FC;\n",
              "    }\n",
              "\n",
              "    [theme=dark] .colab-df-convert:hover {\n",
              "      background-color: #434B5C;\n",
              "      box-shadow: 0px 1px 3px 1px rgba(0, 0, 0, 0.15);\n",
              "      filter: drop-shadow(0px 1px 2px rgba(0, 0, 0, 0.3));\n",
              "      fill: #FFFFFF;\n",
              "    }\n",
              "  </style>\n",
              "\n",
              "      <script>\n",
              "        const buttonEl =\n",
              "          document.querySelector('#df-8d20e88d-5cc6-42f8-b8ef-37f795d61e34 button.colab-df-convert');\n",
              "        buttonEl.style.display =\n",
              "          google.colab.kernel.accessAllowed ? 'block' : 'none';\n",
              "\n",
              "        async function convertToInteractive(key) {\n",
              "          const element = document.querySelector('#df-8d20e88d-5cc6-42f8-b8ef-37f795d61e34');\n",
              "          const dataTable =\n",
              "            await google.colab.kernel.invokeFunction('convertToInteractive',\n",
              "                                                     [key], {});\n",
              "          if (!dataTable) return;\n",
              "\n",
              "          const docLinkHtml = 'Like what you see? Visit the ' +\n",
              "            '<a target=\"_blank\" href=https://colab.research.google.com/notebooks/data_table.ipynb>data table notebook</a>'\n",
              "            + ' to learn more about interactive tables.';\n",
              "          element.innerHTML = '';\n",
              "          dataTable['output_type'] = 'display_data';\n",
              "          await google.colab.output.renderOutput(dataTable, element);\n",
              "          const docLink = document.createElement('div');\n",
              "          docLink.innerHTML = docLinkHtml;\n",
              "          element.appendChild(docLink);\n",
              "        }\n",
              "      </script>\n",
              "    </div>\n",
              "  </div>\n",
              "  "
            ]
          },
          "metadata": {},
          "execution_count": 30
        }
      ]
    },
    {
      "cell_type": "markdown",
      "source": [
        "이상치 범위에 크게 벗어나지는 않는데 지워야할까..?"
      ],
      "metadata": {
        "id": "GWWh5NYVgZtH"
      }
    },
    {
      "cell_type": "code",
      "source": [
        "sg_df = pd.DataFrame(train['Sub Grade'].value_counts())\n",
        "loc = find_outliers_IQR(sg_df['Sub Grade'])"
      ],
      "metadata": {
        "id": "_PZ4DZVggIT1"
      },
      "execution_count": null,
      "outputs": []
    },
    {
      "cell_type": "code",
      "source": [
        "sg_df.iloc[loc]"
      ],
      "metadata": {
        "id": "BHpIMLmlgl75",
        "colab": {
          "base_uri": "https://localhost:8080/",
          "height": 49
        },
        "outputId": "4edb39e7-1793-4e72-8d8b-25767c1ff6a9"
      },
      "execution_count": null,
      "outputs": [
        {
          "output_type": "execute_result",
          "data": {
            "text/plain": [
              "Empty DataFrame\n",
              "Columns: [Sub Grade]\n",
              "Index: []"
            ],
            "text/html": [
              "\n",
              "  <div id=\"df-47e9946e-667b-4f88-b045-ca24f35ae1b0\">\n",
              "    <div class=\"colab-df-container\">\n",
              "      <div>\n",
              "<style scoped>\n",
              "    .dataframe tbody tr th:only-of-type {\n",
              "        vertical-align: middle;\n",
              "    }\n",
              "\n",
              "    .dataframe tbody tr th {\n",
              "        vertical-align: top;\n",
              "    }\n",
              "\n",
              "    .dataframe thead th {\n",
              "        text-align: right;\n",
              "    }\n",
              "</style>\n",
              "<table border=\"1\" class=\"dataframe\">\n",
              "  <thead>\n",
              "    <tr style=\"text-align: right;\">\n",
              "      <th></th>\n",
              "      <th>Sub Grade</th>\n",
              "    </tr>\n",
              "  </thead>\n",
              "  <tbody>\n",
              "  </tbody>\n",
              "</table>\n",
              "</div>\n",
              "      <button class=\"colab-df-convert\" onclick=\"convertToInteractive('df-47e9946e-667b-4f88-b045-ca24f35ae1b0')\"\n",
              "              title=\"Convert this dataframe to an interactive table.\"\n",
              "              style=\"display:none;\">\n",
              "        \n",
              "  <svg xmlns=\"http://www.w3.org/2000/svg\" height=\"24px\"viewBox=\"0 0 24 24\"\n",
              "       width=\"24px\">\n",
              "    <path d=\"M0 0h24v24H0V0z\" fill=\"none\"/>\n",
              "    <path d=\"M18.56 5.44l.94 2.06.94-2.06 2.06-.94-2.06-.94-.94-2.06-.94 2.06-2.06.94zm-11 1L8.5 8.5l.94-2.06 2.06-.94-2.06-.94L8.5 2.5l-.94 2.06-2.06.94zm10 10l.94 2.06.94-2.06 2.06-.94-2.06-.94-.94-2.06-.94 2.06-2.06.94z\"/><path d=\"M17.41 7.96l-1.37-1.37c-.4-.4-.92-.59-1.43-.59-.52 0-1.04.2-1.43.59L10.3 9.45l-7.72 7.72c-.78.78-.78 2.05 0 2.83L4 21.41c.39.39.9.59 1.41.59.51 0 1.02-.2 1.41-.59l7.78-7.78 2.81-2.81c.8-.78.8-2.07 0-2.86zM5.41 20L4 18.59l7.72-7.72 1.47 1.35L5.41 20z\"/>\n",
              "  </svg>\n",
              "      </button>\n",
              "      \n",
              "  <style>\n",
              "    .colab-df-container {\n",
              "      display:flex;\n",
              "      flex-wrap:wrap;\n",
              "      gap: 12px;\n",
              "    }\n",
              "\n",
              "    .colab-df-convert {\n",
              "      background-color: #E8F0FE;\n",
              "      border: none;\n",
              "      border-radius: 50%;\n",
              "      cursor: pointer;\n",
              "      display: none;\n",
              "      fill: #1967D2;\n",
              "      height: 32px;\n",
              "      padding: 0 0 0 0;\n",
              "      width: 32px;\n",
              "    }\n",
              "\n",
              "    .colab-df-convert:hover {\n",
              "      background-color: #E2EBFA;\n",
              "      box-shadow: 0px 1px 2px rgba(60, 64, 67, 0.3), 0px 1px 3px 1px rgba(60, 64, 67, 0.15);\n",
              "      fill: #174EA6;\n",
              "    }\n",
              "\n",
              "    [theme=dark] .colab-df-convert {\n",
              "      background-color: #3B4455;\n",
              "      fill: #D2E3FC;\n",
              "    }\n",
              "\n",
              "    [theme=dark] .colab-df-convert:hover {\n",
              "      background-color: #434B5C;\n",
              "      box-shadow: 0px 1px 3px 1px rgba(0, 0, 0, 0.15);\n",
              "      filter: drop-shadow(0px 1px 2px rgba(0, 0, 0, 0.3));\n",
              "      fill: #FFFFFF;\n",
              "    }\n",
              "  </style>\n",
              "\n",
              "      <script>\n",
              "        const buttonEl =\n",
              "          document.querySelector('#df-47e9946e-667b-4f88-b045-ca24f35ae1b0 button.colab-df-convert');\n",
              "        buttonEl.style.display =\n",
              "          google.colab.kernel.accessAllowed ? 'block' : 'none';\n",
              "\n",
              "        async function convertToInteractive(key) {\n",
              "          const element = document.querySelector('#df-47e9946e-667b-4f88-b045-ca24f35ae1b0');\n",
              "          const dataTable =\n",
              "            await google.colab.kernel.invokeFunction('convertToInteractive',\n",
              "                                                     [key], {});\n",
              "          if (!dataTable) return;\n",
              "\n",
              "          const docLinkHtml = 'Like what you see? Visit the ' +\n",
              "            '<a target=\"_blank\" href=https://colab.research.google.com/notebooks/data_table.ipynb>data table notebook</a>'\n",
              "            + ' to learn more about interactive tables.';\n",
              "          element.innerHTML = '';\n",
              "          dataTable['output_type'] = 'display_data';\n",
              "          await google.colab.output.renderOutput(dataTable, element);\n",
              "          const docLink = document.createElement('div');\n",
              "          docLink.innerHTML = docLinkHtml;\n",
              "          element.appendChild(docLink);\n",
              "        }\n",
              "      </script>\n",
              "    </div>\n",
              "  </div>\n",
              "  "
            ]
          },
          "metadata": {},
          "execution_count": 32
        }
      ]
    },
    {
      "cell_type": "markdown",
      "source": [
        "Sub Grade는 없다"
      ],
      "metadata": {
        "id": "mBuigAX0goXh"
      }
    },
    {
      "cell_type": "code",
      "source": [
        "lt_df = pd.DataFrame(train['Loan Title'].value_counts())\n",
        "loc = find_outliers_IQR(lt_df['Loan Title'])"
      ],
      "metadata": {
        "id": "us4VyIFOgn64"
      },
      "execution_count": null,
      "outputs": []
    },
    {
      "cell_type": "code",
      "source": [
        "lt_df.iloc[loc]"
      ],
      "metadata": {
        "id": "Vvhv1l_4gv0e",
        "colab": {
          "base_uri": "https://localhost:8080/",
          "height": 394
        },
        "outputId": "aeaa447b-f808-4eb3-83a3-3de1cba07b2d"
      },
      "execution_count": null,
      "outputs": [
        {
          "output_type": "execute_result",
          "data": {
            "text/plain": [
              "                         Loan Title\n",
              "credit card refinancing       21562\n",
              "debt consolidation            19932\n",
              "other                          1708\n",
              "home improvement               1588\n",
              "major purchase                  349\n",
              "medical expenses                164\n",
              "business                        134\n",
              "consolidation                   111\n",
              "moving and relocation           107\n",
              "car financing                    98\n",
              "vacation                         89"
            ],
            "text/html": [
              "\n",
              "  <div id=\"df-71bfd0d5-e3db-4d90-aa78-783549abb8ee\">\n",
              "    <div class=\"colab-df-container\">\n",
              "      <div>\n",
              "<style scoped>\n",
              "    .dataframe tbody tr th:only-of-type {\n",
              "        vertical-align: middle;\n",
              "    }\n",
              "\n",
              "    .dataframe tbody tr th {\n",
              "        vertical-align: top;\n",
              "    }\n",
              "\n",
              "    .dataframe thead th {\n",
              "        text-align: right;\n",
              "    }\n",
              "</style>\n",
              "<table border=\"1\" class=\"dataframe\">\n",
              "  <thead>\n",
              "    <tr style=\"text-align: right;\">\n",
              "      <th></th>\n",
              "      <th>Loan Title</th>\n",
              "    </tr>\n",
              "  </thead>\n",
              "  <tbody>\n",
              "    <tr>\n",
              "      <th>credit card refinancing</th>\n",
              "      <td>21562</td>\n",
              "    </tr>\n",
              "    <tr>\n",
              "      <th>debt consolidation</th>\n",
              "      <td>19932</td>\n",
              "    </tr>\n",
              "    <tr>\n",
              "      <th>other</th>\n",
              "      <td>1708</td>\n",
              "    </tr>\n",
              "    <tr>\n",
              "      <th>home improvement</th>\n",
              "      <td>1588</td>\n",
              "    </tr>\n",
              "    <tr>\n",
              "      <th>major purchase</th>\n",
              "      <td>349</td>\n",
              "    </tr>\n",
              "    <tr>\n",
              "      <th>medical expenses</th>\n",
              "      <td>164</td>\n",
              "    </tr>\n",
              "    <tr>\n",
              "      <th>business</th>\n",
              "      <td>134</td>\n",
              "    </tr>\n",
              "    <tr>\n",
              "      <th>consolidation</th>\n",
              "      <td>111</td>\n",
              "    </tr>\n",
              "    <tr>\n",
              "      <th>moving and relocation</th>\n",
              "      <td>107</td>\n",
              "    </tr>\n",
              "    <tr>\n",
              "      <th>car financing</th>\n",
              "      <td>98</td>\n",
              "    </tr>\n",
              "    <tr>\n",
              "      <th>vacation</th>\n",
              "      <td>89</td>\n",
              "    </tr>\n",
              "  </tbody>\n",
              "</table>\n",
              "</div>\n",
              "      <button class=\"colab-df-convert\" onclick=\"convertToInteractive('df-71bfd0d5-e3db-4d90-aa78-783549abb8ee')\"\n",
              "              title=\"Convert this dataframe to an interactive table.\"\n",
              "              style=\"display:none;\">\n",
              "        \n",
              "  <svg xmlns=\"http://www.w3.org/2000/svg\" height=\"24px\"viewBox=\"0 0 24 24\"\n",
              "       width=\"24px\">\n",
              "    <path d=\"M0 0h24v24H0V0z\" fill=\"none\"/>\n",
              "    <path d=\"M18.56 5.44l.94 2.06.94-2.06 2.06-.94-2.06-.94-.94-2.06-.94 2.06-2.06.94zm-11 1L8.5 8.5l.94-2.06 2.06-.94-2.06-.94L8.5 2.5l-.94 2.06-2.06.94zm10 10l.94 2.06.94-2.06 2.06-.94-2.06-.94-.94-2.06-.94 2.06-2.06.94z\"/><path d=\"M17.41 7.96l-1.37-1.37c-.4-.4-.92-.59-1.43-.59-.52 0-1.04.2-1.43.59L10.3 9.45l-7.72 7.72c-.78.78-.78 2.05 0 2.83L4 21.41c.39.39.9.59 1.41.59.51 0 1.02-.2 1.41-.59l7.78-7.78 2.81-2.81c.8-.78.8-2.07 0-2.86zM5.41 20L4 18.59l7.72-7.72 1.47 1.35L5.41 20z\"/>\n",
              "  </svg>\n",
              "      </button>\n",
              "      \n",
              "  <style>\n",
              "    .colab-df-container {\n",
              "      display:flex;\n",
              "      flex-wrap:wrap;\n",
              "      gap: 12px;\n",
              "    }\n",
              "\n",
              "    .colab-df-convert {\n",
              "      background-color: #E8F0FE;\n",
              "      border: none;\n",
              "      border-radius: 50%;\n",
              "      cursor: pointer;\n",
              "      display: none;\n",
              "      fill: #1967D2;\n",
              "      height: 32px;\n",
              "      padding: 0 0 0 0;\n",
              "      width: 32px;\n",
              "    }\n",
              "\n",
              "    .colab-df-convert:hover {\n",
              "      background-color: #E2EBFA;\n",
              "      box-shadow: 0px 1px 2px rgba(60, 64, 67, 0.3), 0px 1px 3px 1px rgba(60, 64, 67, 0.15);\n",
              "      fill: #174EA6;\n",
              "    }\n",
              "\n",
              "    [theme=dark] .colab-df-convert {\n",
              "      background-color: #3B4455;\n",
              "      fill: #D2E3FC;\n",
              "    }\n",
              "\n",
              "    [theme=dark] .colab-df-convert:hover {\n",
              "      background-color: #434B5C;\n",
              "      box-shadow: 0px 1px 3px 1px rgba(0, 0, 0, 0.15);\n",
              "      filter: drop-shadow(0px 1px 2px rgba(0, 0, 0, 0.3));\n",
              "      fill: #FFFFFF;\n",
              "    }\n",
              "  </style>\n",
              "\n",
              "      <script>\n",
              "        const buttonEl =\n",
              "          document.querySelector('#df-71bfd0d5-e3db-4d90-aa78-783549abb8ee button.colab-df-convert');\n",
              "        buttonEl.style.display =\n",
              "          google.colab.kernel.accessAllowed ? 'block' : 'none';\n",
              "\n",
              "        async function convertToInteractive(key) {\n",
              "          const element = document.querySelector('#df-71bfd0d5-e3db-4d90-aa78-783549abb8ee');\n",
              "          const dataTable =\n",
              "            await google.colab.kernel.invokeFunction('convertToInteractive',\n",
              "                                                     [key], {});\n",
              "          if (!dataTable) return;\n",
              "\n",
              "          const docLinkHtml = 'Like what you see? Visit the ' +\n",
              "            '<a target=\"_blank\" href=https://colab.research.google.com/notebooks/data_table.ipynb>data table notebook</a>'\n",
              "            + ' to learn more about interactive tables.';\n",
              "          element.innerHTML = '';\n",
              "          dataTable['output_type'] = 'display_data';\n",
              "          await google.colab.output.renderOutput(dataTable, element);\n",
              "          const docLink = document.createElement('div');\n",
              "          docLink.innerHTML = docLinkHtml;\n",
              "          element.appendChild(docLink);\n",
              "        }\n",
              "      </script>\n",
              "    </div>\n",
              "  </div>\n",
              "  "
            ]
          },
          "metadata": {},
          "execution_count": 34
        }
      ]
    },
    {
      "cell_type": "markdown",
      "source": [
        "우선 골라내기는 했는데.. 삭제해야할까요..?"
      ],
      "metadata": {
        "id": "imkcg8n_gzSE"
      }
    },
    {
      "cell_type": "markdown",
      "source": [
        "# 4. 상관계수 확인하기"
      ],
      "metadata": {
        "id": "WhcrhPEM9vbf"
      }
    },
    {
      "cell_type": "code",
      "source": [
        "import seaborn as sns\n",
        "\n",
        "# 수치데이터에서 중요한 feature를 분석하고 선택합니다.\n",
        "corr = train.corr()\n",
        "plt.figure(figsize=(20, 12))\n",
        "sns.heatmap(corr, annot=True, linewidths=1, fmt='.1f')"
      ],
      "metadata": {
        "id": "TarmZ3uB8iGk",
        "colab": {
          "base_uri": "https://localhost:8080/",
          "height": 997
        },
        "outputId": "edb01a54-b494-4305-a0b7-7e1e5e3143c8"
      },
      "execution_count": null,
      "outputs": [
        {
          "output_type": "execute_result",
          "data": {
            "text/plain": [
              "<Axes: >"
            ]
          },
          "metadata": {},
          "execution_count": 35
        },
        {
          "output_type": "display_data",
          "data": {
            "text/plain": [
              "<Figure size 2000x1200 with 2 Axes>"
            ],
            "image/png": "[encoded data removed]"
          },
          "metadata": {}
        }
      ]
    },
    {
      "cell_type": "markdown",
      "source": [
        "모든 feature가 독립적이다."
      ],
      "metadata": {
        "id": "CBJs6hXb9ztL"
      }
    },
    {
      "cell_type": "markdown",
      "source": [
        "# 5. Feature Importance\n",
        "우선 Objective type의 feature를 Label Encoding을 통해 Numeric type으로 변경해줍니다.\n",
        "그 후에 RandomForest를 통해서 feature importance를 계산합니다\n"
      ],
      "metadata": {
        "id": "PyQM4ruhrGOE"
      }
    },
    {
      "cell_type": "code",
      "source": [
        "from sklearn.preprocessing import LabelEncoder\n",
        "\n",
        "label_encoder = LabelEncoder()\n",
        "\n",
        "train_tmp = train\n",
        "train_test = test\n",
        "\n",
        "for feature in cate_train:\n",
        "  train_tmp[feature] = label_encoder.fit_transform(train[feature])\n",
        "  train_test[feature] = label_encoder.fit_transform(test[feature])"
      ],
      "metadata": {
        "id": "EzaKMSoj8zJr"
      },
      "execution_count": null,
      "outputs": []
    },
    {
      "cell_type": "code",
      "source": [
        "# Random Forest 모델 기준 Feature Importances 계산\n",
        "from sklearn.ensemble import RandomForestClassifier\n",
        "\n",
        "X_train = train_tmp.drop('Loan Status', axis = 1)\n",
        "Y_train = train['Loan Status']\n",
        "\n",
        "rf = RandomForestClassifier(random_state = 42, n_jobs = -1)\n",
        "rf_model = rf.fit(X_train, Y_train)\n",
        "importances = pd.DataFrame({'Features': X_train.columns, 'Feature Importances': rf_model.feature_importances_})\n",
        "importances.sort_values(by='Feature Importances', ascending = False)"
      ],
      "metadata": {
        "id": "0GPH647sI7Uv",
        "colab": {
          "base_uri": "https://localhost:8080/",
          "height": 1000
        },
        "outputId": "9b63b357-07ac-489a-af8f-97c62260febc"
      },
      "execution_count": null,
      "outputs": [
        {
          "output_type": "execute_result",
          "data": {
            "text/plain": [
              "                        Features  Feature Importances\n",
              "9                 Home Ownership             0.050551\n",
              "22       Total Received Late Fee             0.050067\n",
              "0                    Loan Amount             0.049631\n",
              "29         Total Current Balance             0.049386\n",
              "2         Funded Amount Investor             0.049049\n",
              "5                  Interest Rate             0.049022\n",
              "24       Collection Recovery Fee             0.048832\n",
              "23                    Recoveries             0.048314\n",
              "21       Total Received Interest             0.048224\n",
              "1                  Funded Amount             0.048191\n",
              "12               Debit to Income             0.047975\n",
              "30  Total Revolving Credit Limit             0.047692\n",
              "17             Revolving Balance             0.047397\n",
              "18           Revolving Utilities             0.047254\n",
              "27                 Last week Pay             0.043492\n",
              "28       Total Collection Amount             0.039082\n",
              "19                Total Accounts             0.036265\n",
              "4                 Batch Enrolled             0.035254\n",
              "7                      Sub Grade             0.034834\n",
              "15                  Open Account             0.033841\n",
              "6                          Grade             0.019181\n",
              "11                    Loan Title             0.017777\n",
              "10           Verification Status             0.010933\n",
              "13       Delinquency - two years             0.010762\n",
              "8            Employment Duration             0.008903\n",
              "3                           Term             0.007376\n",
              "14         Inquires - six months             0.006889\n",
              "20           Initial List Status             0.005738\n",
              "16                 Public Record             0.005354\n",
              "25  Collection 12 months Medical             0.002271\n",
              "26              Application Type             0.000462"
            ],
            "text/html": [
              "\n",
              "  <div id=\"df-1c8b5847-bdb2-4f8c-89d2-6393497f61ea\">\n",
              "    <div class=\"colab-df-container\">\n",
              "      <div>\n",
              "<style scoped>\n",
              "    .dataframe tbody tr th:only-of-type {\n",
              "        vertical-align: middle;\n",
              "    }\n",
              "\n",
              "    .dataframe tbody tr th {\n",
              "        vertical-align: top;\n",
              "    }\n",
              "\n",
              "    .dataframe thead th {\n",
              "        text-align: right;\n",
              "    }\n",
              "</style>\n",
              "<table border=\"1\" class=\"dataframe\">\n",
              "  <thead>\n",
              "    <tr style=\"text-align: right;\">\n",
              "      <th></th>\n",
              "      <th>Features</th>\n",
              "      <th>Feature Importances</th>\n",
              "    </tr>\n",
              "  </thead>\n",
              "  <tbody>\n",
              "    <tr>\n",
              "      <th>9</th>\n",
              "      <td>Home Ownership</td>\n",
              "      <td>0.050551</td>\n",
              "    </tr>\n",
              "    <tr>\n",
              "      <th>22</th>\n",
              "      <td>Total Received Late Fee</td>\n",
              "      <td>0.050067</td>\n",
              "    </tr>\n",
              "    <tr>\n",
              "      <th>0</th>\n",
              "      <td>Loan Amount</td>\n",
              "      <td>0.049631</td>\n",
              "    </tr>\n",
              "    <tr>\n",
              "      <th>29</th>\n",
              "      <td>Total Current Balance</td>\n",
              "      <td>0.049386</td>\n",
              "    </tr>\n",
              "    <tr>\n",
              "      <th>2</th>\n",
              "      <td>Funded Amount Investor</td>\n",
              "      <td>0.049049</td>\n",
              "    </tr>\n",
              "    <tr>\n",
              "      <th>5</th>\n",
              "      <td>Interest Rate</td>\n",
              "      <td>0.049022</td>\n",
              "    </tr>\n",
              "    <tr>\n",
              "      <th>24</th>\n",
              "      <td>Collection Recovery Fee</td>\n",
              "      <td>0.048832</td>\n",
              "    </tr>\n",
              "    <tr>\n",
              "      <th>23</th>\n",
              "      <td>Recoveries</td>\n",
              "      <td>0.048314</td>\n",
              "    </tr>\n",
              "    <tr>\n",
              "      <th>21</th>\n",
              "      <td>Total Received Interest</td>\n",
              "      <td>0.048224</td>\n",
              "    </tr>\n",
              "    <tr>\n",
              "      <th>1</th>\n",
              "      <td>Funded Amount</td>\n",
              "      <td>0.048191</td>\n",
              "    </tr>\n",
              "    <tr>\n",
              "      <th>12</th>\n",
              "      <td>Debit to Income</td>\n",
              "      <td>0.047975</td>\n",
              "    </tr>\n",
              "    <tr>\n",
              "      <th>30</th>\n",
              "      <td>Total Revolving Credit Limit</td>\n",
              "      <td>0.047692</td>\n",
              "    </tr>\n",
              "    <tr>\n",
              "      <th>17</th>\n",
              "      <td>Revolving Balance</td>\n",
              "      <td>0.047397</td>\n",
              "    </tr>\n",
              "    <tr>\n",
              "      <th>18</th>\n",
              "      <td>Revolving Utilities</td>\n",
              "      <td>0.047254</td>\n",
              "    </tr>\n",
              "    <tr>\n",
              "      <th>27</th>\n",
              "      <td>Last week Pay</td>\n",
              "      <td>0.043492</td>\n",
              "    </tr>\n",
              "    <tr>\n",
              "      <th>28</th>\n",
              "      <td>Total Collection Amount</td>\n",
              "      <td>0.039082</td>\n",
              "    </tr>\n",
              "    <tr>\n",
              "      <th>19</th>\n",
              "      <td>Total Accounts</td>\n",
              "      <td>0.036265</td>\n",
              "    </tr>\n",
              "    <tr>\n",
              "      <th>4</th>\n",
              "      <td>Batch Enrolled</td>\n",
              "      <td>0.035254</td>\n",
              "    </tr>\n",
              "    <tr>\n",
              "      <th>7</th>\n",
              "      <td>Sub Grade</td>\n",
              "      <td>0.034834</td>\n",
              "    </tr>\n",
              "    <tr>\n",
              "      <th>15</th>\n",
              "      <td>Open Account</td>\n",
              "      <td>0.033841</td>\n",
              "    </tr>\n",
              "    <tr>\n",
              "      <th>6</th>\n",
              "      <td>Grade</td>\n",
              "      <td>0.019181</td>\n",
              "    </tr>\n",
              "    <tr>\n",
              "      <th>11</th>\n",
              "      <td>Loan Title</td>\n",
              "      <td>0.017777</td>\n",
              "    </tr>\n",
              "    <tr>\n",
              "      <th>10</th>\n",
              "      <td>Verification Status</td>\n",
              "      <td>0.010933</td>\n",
              "    </tr>\n",
              "    <tr>\n",
              "      <th>13</th>\n",
              "      <td>Delinquency - two years</td>\n",
              "      <td>0.010762</td>\n",
              "    </tr>\n",
              "    <tr>\n",
              "      <th>8</th>\n",
              "      <td>Employment Duration</td>\n",
              "      <td>0.008903</td>\n",
              "    </tr>\n",
              "    <tr>\n",
              "      <th>3</th>\n",
              "      <td>Term</td>\n",
              "      <td>0.007376</td>\n",
              "    </tr>\n",
              "    <tr>\n",
              "      <th>14</th>\n",
              "      <td>Inquires - six months</td>\n",
              "      <td>0.006889</td>\n",
              "    </tr>\n",
              "    <tr>\n",
              "      <th>20</th>\n",
              "      <td>Initial List Status</td>\n",
              "      <td>0.005738</td>\n",
              "    </tr>\n",
              "    <tr>\n",
              "      <th>16</th>\n",
              "      <td>Public Record</td>\n",
              "      <td>0.005354</td>\n",
              "    </tr>\n",
              "    <tr>\n",
              "      <th>25</th>\n",
              "      <td>Collection 12 months Medical</td>\n",
              "      <td>0.002271</td>\n",
              "    </tr>\n",
              "    <tr>\n",
              "      <th>26</th>\n",
              "      <td>Application Type</td>\n",
              "      <td>0.000462</td>\n",
              "    </tr>\n",
              "  </tbody>\n",
              "</table>\n",
              "</div>\n",
              "      <button class=\"colab-df-convert\" onclick=\"convertToInteractive('df-1c8b5847-bdb2-4f8c-89d2-6393497f61ea')\"\n",
              "              title=\"Convert this dataframe to an interactive table.\"\n",
              "              style=\"display:none;\">\n",
              "        \n",
              "  <svg xmlns=\"http://www.w3.org/2000/svg\" height=\"24px\"viewBox=\"0 0 24 24\"\n",
              "       width=\"24px\">\n",
              "    <path d=\"M0 0h24v24H0V0z\" fill=\"none\"/>\n",
              "    <path d=\"M18.56 5.44l.94 2.06.94-2.06 2.06-.94-2.06-.94-.94-2.06-.94 2.06-2.06.94zm-11 1L8.5 8.5l.94-2.06 2.06-.94-2.06-.94L8.5 2.5l-.94 2.06-2.06.94zm10 10l.94 2.06.94-2.06 2.06-.94-2.06-.94-.94-2.06-.94 2.06-2.06.94z\"/><path d=\"M17.41 7.96l-1.37-1.37c-.4-.4-.92-.59-1.43-.59-.52 0-1.04.2-1.43.59L10.3 9.45l-7.72 7.72c-.78.78-.78 2.05 0 2.83L4 21.41c.39.39.9.59 1.41.59.51 0 1.02-.2 1.41-.59l7.78-7.78 2.81-2.81c.8-.78.8-2.07 0-2.86zM5.41 20L4 18.59l7.72-7.72 1.47 1.35L5.41 20z\"/>\n",
              "  </svg>\n",
              "      </button>\n",
              "      \n",
              "  <style>\n",
              "    .colab-df-container {\n",
              "      display:flex;\n",
              "      flex-wrap:wrap;\n",
              "      gap: 12px;\n",
              "    }\n",
              "\n",
              "    .colab-df-convert {\n",
              "      background-color: #E8F0FE;\n",
              "      border: none;\n",
              "      border-radius: 50%;\n",
              "      cursor: pointer;\n",
              "      display: none;\n",
              "      fill: #1967D2;\n",
              "      height: 32px;\n",
              "      padding: 0 0 0 0;\n",
              "      width: 32px;\n",
              "    }\n",
              "\n",
              "    .colab-df-convert:hover {\n",
              "      background-color: #E2EBFA;\n",
              "      box-shadow: 0px 1px 2px rgba(60, 64, 67, 0.3), 0px 1px 3px 1px rgba(60, 64, 67, 0.15);\n",
              "      fill: #174EA6;\n",
              "    }\n",
              "\n",
              "    [theme=dark] .colab-df-convert {\n",
              "      background-color: #3B4455;\n",
              "      fill: #D2E3FC;\n",
              "    }\n",
              "\n",
              "    [theme=dark] .colab-df-convert:hover {\n",
              "      background-color: #434B5C;\n",
              "      box-shadow: 0px 1px 3px 1px rgba(0, 0, 0, 0.15);\n",
              "      filter: drop-shadow(0px 1px 2px rgba(0, 0, 0, 0.3));\n",
              "      fill: #FFFFFF;\n",
              "    }\n",
              "  </style>\n",
              "\n",
              "      <script>\n",
              "        const buttonEl =\n",
              "          document.querySelector('#df-1c8b5847-bdb2-4f8c-89d2-6393497f61ea button.colab-df-convert');\n",
              "        buttonEl.style.display =\n",
              "          google.colab.kernel.accessAllowed ? 'block' : 'none';\n",
              "\n",
              "        async function convertToInteractive(key) {\n",
              "          const element = document.querySelector('#df-1c8b5847-bdb2-4f8c-89d2-6393497f61ea');\n",
              "          const dataTable =\n",
              "            await google.colab.kernel.invokeFunction('convertToInteractive',\n",
              "                                                     [key], {});\n",
              "          if (!dataTable) return;\n",
              "\n",
              "          const docLinkHtml = 'Like what you see? Visit the ' +\n",
              "            '<a target=\"_blank\" href=https://colab.research.google.com/notebooks/data_table.ipynb>data table notebook</a>'\n",
              "            + ' to learn more about interactive tables.';\n",
              "          element.innerHTML = '';\n",
              "          dataTable['output_type'] = 'display_data';\n",
              "          await google.colab.output.renderOutput(dataTable, element);\n",
              "          const docLink = document.createElement('div');\n",
              "          docLink.innerHTML = docLinkHtml;\n",
              "          element.appendChild(docLink);\n",
              "        }\n",
              "      </script>\n",
              "    </div>\n",
              "  </div>\n",
              "  "
            ]
          },
          "metadata": {},
          "execution_count": 37
        }
      ]
    },
    {
      "cell_type": "markdown",
      "source": [
        "중요도가 낮은 Collection 12 months Medical과 Application Type을 삭제하자"
      ],
      "metadata": {
        "id": "FLwivD9iwuuf"
      }
    },
    {
      "cell_type": "code",
      "source": [
        "sort_import = importances.sort_values(by='Feature Importances', ascending = False)\n",
        "del_list = list(sort_import[sort_import['Feature Importances'] < 0.01]['Features'])"
      ],
      "metadata": {
        "id": "DgYD5X9jCGn8"
      },
      "execution_count": null,
      "outputs": []
    },
    {
      "cell_type": "code",
      "source": [
        "train = train.drop(del_list, axis=1)\n",
        "test = test.drop(del_list, axis=1)"
      ],
      "metadata": {
        "id": "dxvc3DJwwl6E"
      },
      "execution_count": null,
      "outputs": []
    },
    {
      "cell_type": "markdown",
      "source": [
        "# 5. 범주형 변수 인코딩하기"
      ],
      "metadata": {
        "id": "y40HDhoV92WS"
      }
    },
    {
      "cell_type": "code",
      "source": [
        "from sklearn.preprocessing import OrdinalEncoder\n",
        "\n",
        "# OrdinalEncoder 객체 생성\n",
        "encoder = OrdinalEncoder()\n",
        "\n",
        "# 데이터 변환\n",
        "train['Grade'] = encoder.fit_transform(train[['Grade']])\n",
        "train['Sub Grade'] = encoder.fit_transform(train[['Sub Grade']])\n",
        "\n",
        "test['Grade'] = encoder.fit_transform(test[['Grade']])\n",
        "test['Sub Grade'] = encoder.fit_transform(test[['Sub Grade']])\n",
        "\n",
        "print(train['Grade'].unique())\n",
        "print(train['Sub Grade'].unique())"
      ],
      "metadata": {
        "id": "JfxnEopGWj96",
        "colab": {
          "base_uri": "https://localhost:8080/"
        },
        "outputId": "115c5802-51fa-407f-e548-ff631b21fdbb"
      },
      "execution_count": null,
      "outputs": [
        {
          "output_type": "stream",
          "name": "stdout",
          "text": [
            "[0. 1. 4. 2. 5. 3. 6.]\n",
            "[34. 10.  8.  7. 18.  6. 29.  4. 19. 15.  0. 14.  2. 12. 23.  1. 27.  5.\n",
            " 16.  9. 22. 17. 11. 25. 26. 13.  3. 20. 21. 24. 32. 31. 30. 33. 28.]\n"
          ]
        }
      ]
    },
    {
      "cell_type": "code",
      "source": [
        "# 남은 category 변수들을 인코딩 해줍니다.\n",
        "train = pd.get_dummies(train)\n",
        "test = pd.get_dummies(test)\n",
        "\n",
        "print(train.shape)\n",
        "print(test.shape)"
      ],
      "metadata": {
        "id": "vHF2ZP8f-vp3",
        "colab": {
          "base_uri": "https://localhost:8080/"
        },
        "outputId": "61a7c8ec-1ca5-4d57-a105-a777c128a819"
      },
      "execution_count": null,
      "outputs": [
        {
          "output_type": "stream",
          "name": "stdout",
          "text": [
            "(47224, 25)\n",
            "(20239, 24)\n"
          ]
        }
      ]
    },
    {
      "cell_type": "markdown",
      "source": [
        "# 6. 데이터 불균형 처리하기"
      ],
      "metadata": {
        "id": "HEwgbF1lxmyv"
      }
    },
    {
      "cell_type": "code",
      "source": [
        "# SMOTE + TomekLinks\n",
        "from imblearn.combine import SMOTETomek\n",
        "\n",
        "x_train = train.drop('Loan Status', axis = 1)\n",
        "y_train = train['Loan Status']\n",
        "\n",
        "X_st, y_st = SMOTETomek(random_state=4).fit_resample(x_train, y_train)\n",
        "\n",
        "# 오버샘플링 후의 데이터 확인\n",
        "print(\"Original data shape:\", x_train.shape, y_train.shape)\n",
        "print(\"Resampled data shape:\", X_st.shape, y_st.shape)"
      ],
      "metadata": {
        "id": "uoa6rzscwEQ_",
        "colab": {
          "base_uri": "https://localhost:8080/"
        },
        "outputId": "09e23e4a-0053-41f9-cdc7-831a5346edb0"
      },
      "execution_count": null,
      "outputs": [
        {
          "output_type": "stream",
          "name": "stdout",
          "text": [
            "Original data shape: (47224, 24) (47224,)\n",
            "Resampled data shape: (85288, 24) (85288,)\n"
          ]
        }
      ]
    },
    {
      "cell_type": "markdown",
      "source": [
        "#7. 모델링\n",
        "모델을 F1 score로 평가\n",
        "(데이터가 불균형일 때 대다수를 차지하는 데이터로 모두 예측해버리면 정확도는 높게 평가될 수 있으므로 F1 score를 평가 기준으로 사용), \n",
        "f1 score가 높은 상위 3개 모델을 voting. \n"
      ],
      "metadata": {
        "id": "33lwIT0eSbkB"
      }
    },
    {
      "cell_type": "code",
      "source": [
        "from sklearn.linear_model import LogisticRegression\n",
        "from sklearn.svm import SVC, LinearSVC\n",
        "from sklearn.ensemble import GradientBoostingClassifier\n",
        "from sklearn.naive_bayes import GaussianNB\n",
        "from sklearn.tree import DecisionTreeClassifier\n",
        "from sklearn.ensemble import RandomForestClassifier\n",
        "from sklearn.neighbors import KNeighborsClassifier\n",
        "from sklearn.linear_model import Perceptron\n",
        "from sklearn.linear_model import SGDClassifier\n",
        "from xgboost import XGBClassifier\n",
        "\n",
        "from sklearn.metrics import accuracy_score\n",
        "from sklearn.model_selection import train_test_split\n",
        "from sklearn.metrics import f1_score\n",
        "from sklearn.model_selection import cross_val_score\n",
        "\n",
        "from sklearn.model_selection import GridSearchCV"
      ],
      "metadata": {
        "id": "B4SuzQ1ESdmC"
      },
      "execution_count": null,
      "outputs": []
    },
    {
      "cell_type": "code",
      "source": [
        "X_train, X_valid, Y_train, Y_valid = train_test_split(X_st, y_st, test_size=0.2, random_state = 42, stratify = y_st)\n",
        "X_train.shape, Y_train.shape, X_valid.shape, Y_valid.shape"
      ],
      "metadata": {
        "id": "exhGO1K7U7T2",
        "colab": {
          "base_uri": "https://localhost:8080/"
        },
        "outputId": "aace86d0-3d22-4c96-bafa-166e865a4c10"
      },
      "execution_count": 46,
      "outputs": [
        {
          "output_type": "execute_result",
          "data": {
            "text/plain": [
              "((68230, 24), (68230,), (17058, 24), (17058,))"
            ]
          },
          "metadata": {},
          "execution_count": 46
        }
      ]
    },
    {
      "cell_type": "code",
      "source": [
        "# Logistic regression\n",
        "\n",
        "params = { \n",
        "          'penalty': ['l1', 'l2'], \n",
        "          'C': [0.01, 0.1, 1, 5, 10]\n",
        "}\n",
        "\n",
        "lr = LogisticRegression()\n",
        "# scoring default = \"accuracy\"\n",
        "lr_grid = GridSearchCV(lr, param_grid = params, scoring = 'f1', cv = 5)\n",
        "lr_grid.fit(X_train, Y_train)\n",
        "print(lr_grid.best_params_)\n",
        "\n",
        "lr_model = lr_grid.best_estimator_\n",
        "Y_pred = lr_model.predict(X_valid)\n",
        "\n",
        "# Measuring accuracy on Testing Data\n",
        "accuracy_log = accuracy_score(Y_pred, Y_valid)\n",
        "f1_log = f1_score(Y_pred,Y_valid)   # f1 score로 평가하기로 했으니까 f1 스코어도 계산했어요 !\n",
        "print(f1_log)\n",
        "print(accuracy_log)"
      ],
      "metadata": {
        "id": "7aFZKUS1UmYO",
        "colab": {
          "base_uri": "https://localhost:8080/"
        },
        "outputId": "e807d63c-b8f7-4c3c-d760-cbc3a8e119a0"
      },
      "execution_count": null,
      "outputs": [
        {
          "output_type": "stream",
          "name": "stdout",
          "text": [
            "{'C': 1, 'penalty': 'l2'}\n",
            "0.4866110349981317\n",
            "0.516707703130496\n"
          ]
        }
      ]
    },
    {
      "cell_type": "code",
      "source": [
        "# Decision tree\n",
        "\n",
        "params = {\n",
        "    'max_depth':[1,2,3], \n",
        "    'min_samples_split':[2,3]\n",
        "}\n",
        "\n",
        "dt = DecisionTreeClassifier()\n",
        "\n",
        "dt_grid = GridSearchCV(dt, param_grid = params, scoring = 'f1', cv = 5)\n",
        "dt_grid.fit(X_train, Y_train)\n",
        "print(dt_grid.best_params_)\n",
        "\n",
        "dt_model = dt_grid.best_estimator_\n",
        "Y_pred  = dt_model.predict(X_valid)\n",
        "\n",
        "# Measuring accuracy on Testing Data\n",
        "acc_decision_tree = accuracy_score(Y_pred, Y_valid)\n",
        "f1_dt = f1_score(Y_pred,Y_valid)\n",
        "print(f1_dt)\n",
        "print(acc_decision_tree)"
      ],
      "metadata": {
        "id": "KbsMKU8CVdpB",
        "colab": {
          "base_uri": "https://localhost:8080/"
        },
        "outputId": "3b546c70-dde9-4013-985a-7baca8f1d14b"
      },
      "execution_count": null,
      "outputs": [
        {
          "output_type": "stream",
          "name": "stdout",
          "text": [
            "{'max_depth': 3, 'min_samples_split': 2}\n",
            "0.716195856873823\n",
            "0.6466174229100715\n"
          ]
        }
      ]
    },
    {
      "cell_type": "code",
      "source": [
        "# KNN\n",
        "\n",
        "params = {\n",
        "    'n_neighbors' : [1, 2, 3, 4, 5, 6, 7, 8, 9, 10],\n",
        "    'weights' : [\"uniform\", \"distance\"],\n",
        "    'metric' : ['euclidean', 'manhattan', 'minkowski']\n",
        "}\n",
        "\n",
        "knn = KNeighborsClassifier()\n",
        "\n",
        "knn_grid = GridSearchCV(knn, param_grid = params, scoring = 'f1', cv = 5)\n",
        "knn_grid.fit(X_train,  Y_train)\n",
        "print(knn_grid.best_params_)\n",
        "\n",
        "knn_model = knn_grid.best_estimator_\n",
        "Y_pred = knn_model.predict(X_valid)\n",
        "\n",
        "# Measuring accuracy on Testing Data\n",
        "accuracy_knn = accuracy_score(Y_pred, Y_valid)\n",
        "f1_knn = f1_score(Y_pred,Y_valid)\n",
        "print(f1_knn)\n",
        "print(accuracy_knn)"
      ],
      "metadata": {
        "id": "G4bAuP9AVg1v",
        "colab": {
          "base_uri": "https://localhost:8080/"
        },
        "outputId": "27057290-6c03-4700-f253-129aaafe9fb8"
      },
      "execution_count": null,
      "outputs": [
        {
          "output_type": "stream",
          "name": "stdout",
          "text": [
            "{'metric': 'euclidean', 'n_neighbors': 2, 'weights': 'uniform'}\n",
            "0.9098141790638112\n",
            "0.9029780748036113\n"
          ]
        }
      ]
    },
    {
      "cell_type": "code",
      "source": [
        "# Support Vector Machines\n",
        "\n",
        "# params = {\n",
        "#     'C': [0.001, 0.01, 0.1, 1, 10, 100],\n",
        "#     'gamma': [0.001, 0.01, 0.1, 1, 10, 100]\n",
        "# }\n",
        "\n",
        "# svc = SVC()\n",
        "\n",
        "# svc_grid = GridSearchCV(svc, param_grid = params, scoring = 'f1', cv = 5)\n",
        "# svc_grid.fit(X_train, Y_train)\n",
        "# svc_model = svc_grid.best_estimator_\n",
        "# Y_pred = svc_model.predict(X_valid)\n",
        "\n",
        "# # Measuring accuracy on Testing Data\n",
        "# accuracy_svc = accuracy_score(Y_pred, Y_valid)\n",
        "# f1_svc = f1_score(Y_pred,Y_valid)\n",
        "# print(f1_svc)\n",
        "# print(accuracy_svc)"
      ],
      "metadata": {
        "id": "_bZ047vnVkul"
      },
      "execution_count": null,
      "outputs": []
    },
    {
      "cell_type": "code",
      "source": [
        "# Gaussian Naive Bayes\n",
        "\n",
        "params = {\n",
        "    'var_smoothing': np.logspace(0,-9, num=100)\n",
        "}\n",
        "\n",
        "gaussian = GaussianNB()\n",
        "\n",
        "gaussian_grid = GridSearchCV(gaussian, param_grid = params, scoring = 'f1', cv = 5)\n",
        "gaussian_grid.fit(X_train, Y_train)\n",
        "print(gaussian_grid.best_params_)\n",
        "\n",
        "gaussian_model = gaussian_grid.best_estimator_\n",
        "Y_pred = gaussian_model.predict(X_valid)\n",
        "\n",
        "# Measuring accuracy on Testing Data\n",
        "accuracy_gaussian = accuracy_score(Y_pred, Y_valid)\n",
        "f1_gaussian = f1_score(Y_pred,Y_valid)\n",
        "print(f1_gaussian)\n",
        "print(accuracy_gaussian)"
      ],
      "metadata": {
        "id": "ASd7hgmxVngv",
        "colab": {
          "base_uri": "https://localhost:8080/"
        },
        "outputId": "7d79da76-3737-4f9a-e0a0-fe5776ae6504"
      },
      "execution_count": null,
      "outputs": [
        {
          "output_type": "stream",
          "name": "stdout",
          "text": [
            "{'var_smoothing': 1e-09}\n",
            "0.6684660780456563\n",
            "0.5751553523273537\n"
          ]
        }
      ]
    },
    {
      "cell_type": "code",
      "source": [
        "# Gradient boosting\n",
        "\n",
        "params  = {\n",
        "    'learning_rate': [0.001, 0.01, 0.1, 1, 3, 5],\n",
        "    'n_estimators': [30, 50, 100, 200]\n",
        "}\n",
        "\n",
        "g_boost = GradientBoostingClassifier()\n",
        "\n",
        "g_boost_grid = GridSearchCV(g_boost, param_grid = params, scoring = 'f1', cv = 5)\n",
        "g_boost_grid.fit(X_train, Y_train)\n",
        "print(g_boost_grid.best_params_)\n",
        "\n",
        "g_boost_model = g_boost_grid.best_estimator_\n",
        "Y_pred = g_boost_model.predict(X_valid)\n",
        "\n",
        "# Measuring accuracy on Testing Data\n",
        "accuracy_gboost = accuracy_score(Y_pred, Y_valid)\n",
        "f1_gboost = f1_score(Y_pred,Y_valid)\n",
        "print(f1_gboost)\n",
        "print(accuracy_gboost)"
      ],
      "metadata": {
        "id": "__y1Uc4UVrAu",
        "colab": {
          "base_uri": "https://localhost:8080/"
        },
        "outputId": "35bcee63-ecb6-40a3-9b21-8451e9317d2c"
      },
      "execution_count": null,
      "outputs": [
        {
          "output_type": "stream",
          "name": "stdout",
          "text": [
            "{'learning_rate': 1, 'n_estimators': 100}\n",
            "0.9311935067330751\n",
            "0.9344002813928949\n"
          ]
        }
      ]
    },
    {
      "cell_type": "code",
      "source": [
        "# XGB Classifier\n",
        "\n",
        "params = {\n",
        "        'max_depth': [3, 4, 5], \n",
        "        'learning_rate': [0.1, 0.2],\n",
        "        'n_estimators': [100]\n",
        "}\n",
        "\n",
        "xgb_classifier = XGBClassifier()\n",
        "\n",
        "xgb_grid = GridSearchCV(xgb_classifier, param_grid = params, scoring = 'f1', cv = 5)\n",
        "xgb_grid.fit(X_train,Y_train)\n",
        "print(xgb_grid.best_params_)\n",
        "\n",
        "xgb_model = xgb_grid.best_estimator_\n",
        "Y_pred = xgb_model.predict(X_valid)\n",
        "\n",
        "# Measuring accuracy on Testing Data\n",
        "accuracy_xgb = accuracy_score(Y_pred, Y_valid)\n",
        "f1_xgb = f1_score(Y_pred,Y_valid)\n",
        "print(f1_xgb)\n",
        "print(accuracy_xgb)"
      ],
      "metadata": {
        "id": "BmcAwj2mVvom",
        "colab": {
          "base_uri": "https://localhost:8080/"
        },
        "outputId": "9c533f00-2f92-4ed1-df03-d37e86520b26"
      },
      "execution_count": 47,
      "outputs": [
        {
          "output_type": "stream",
          "name": "stdout",
          "text": [
            "{'learning_rate': 0.2, 'max_depth': 5, 'n_estimators': 100}\n",
            "0.9345108526649667\n",
            "0.9382694336967992\n"
          ]
        }
      ]
    },
    {
      "cell_type": "code",
      "source": [
        "# Random Forest\n",
        "\n",
        "params = {\n",
        "    'n_estimators' : [100],\n",
        "    'max_depth' : [6, 8, 10],\n",
        "    'min_samples_leaf' : [8, 12, 16],\n",
        "    'min_samples_split' : [8, 16, 20]\n",
        "}\n",
        "\n",
        "rf = RandomForestClassifier(random_state = 42, n_jobs = -1)\n",
        "\n",
        "rf_grid = GridSearchCV(rf, param_grid = params, scoring = 'f1', cv = 5)\n",
        "rf_grid.fit(X_train, Y_train)\n",
        "print(rf_grid.best_params_)\n",
        "\n",
        "rf_model = rf_grid.best_estimator_\n",
        "Y_pred = rf_model.predict(X_valid)\n",
        "\n",
        "# Measuring accuracy on Testing Data\n",
        "accuracy_rf = accuracy_score(Y_pred, Y_valid)\n",
        "f1_rf = f1_score(Y_pred,Y_valid)\n",
        "print(f1_rf)\n",
        "print(accuracy_rf)"
      ],
      "metadata": {
        "id": "JScm91-eVzR7",
        "colab": {
          "base_uri": "https://localhost:8080/"
        },
        "outputId": "8e8200ee-df67-4249-f0b1-495713824f06"
      },
      "execution_count": 48,
      "outputs": [
        {
          "output_type": "stream",
          "name": "stdout",
          "text": [
            "{'max_depth': 10, 'min_samples_leaf': 8, 'min_samples_split': 8, 'n_estimators': 100}\n",
            "0.8132848257246802\n",
            "0.8134599601360065\n"
          ]
        }
      ]
    },
    {
      "cell_type": "code",
      "source": [
        "f1_log = 0.4866110349981317\n",
        "accuracy_log = 0.516707703130496\n",
        "\n",
        "f1_dt = 0.716195856873823\n",
        "acc_decision_tree = 0.6466174229100715\n",
        "\n",
        "f1_knn = 0.9098141790638112\n",
        "accuracy_knn = 0.9029780748036113\n",
        "\n",
        "f1_gaussian = 0.6684660780456563\n",
        "accuracy_gaussian = 0.5751553523273537\n",
        "\n",
        "f1_gboost = 0.9311935067330751\n",
        "accuracy_gboost = 0.9344002813928949"
      ],
      "metadata": {
        "id": "8SJHS0TzcDRO"
      },
      "execution_count": 49,
      "outputs": []
    },
    {
      "cell_type": "code",
      "source": [
        "models = pd.DataFrame({\n",
        "    'Model': ['KNN', 'Logistic Regression', 'Random Forest',\n",
        "              'Naive Bayes', 'Decision Tree', 'Gradient Boosting', 'XGB Classifier'],\n",
        "    'Accuracy': [accuracy_knn, accuracy_log, accuracy_rf,\n",
        "              accuracy_gaussian, acc_decision_tree, accuracy_gboost, accuracy_xgb],\n",
        "    'F1 score': [f1_knn, f1_log, f1_rf, f1_gaussian, f1_dt, f1_gboost, f1_xgb]})\n",
        "models.sort_values(by='F1 score', ascending=False)"
      ],
      "metadata": {
        "id": "PhE_CjhcV68S",
        "colab": {
          "base_uri": "https://localhost:8080/",
          "height": 269
        },
        "outputId": "801fd9d7-d149-4860-89ae-18b09acabd78"
      },
      "execution_count": null,
      "outputs": [
        {
          "output_type": "execute_result",
          "data": {
            "text/plain": [
              "                 Model  Accuracy  F1 score\n",
              "6       XGB Classifier  0.938269  0.934511\n",
              "5    Gradient Boosting  0.934400  0.931194\n",
              "0                  KNN  0.902978  0.909814\n",
              "2        Random Forest  0.813460  0.813285\n",
              "4        Decision Tree  0.646617  0.716196\n",
              "3          Naive Bayes  0.575155  0.668466\n",
              "1  Logistic Regression  0.516708  0.486611"
            ],
            "text/html": [
              "\n",
              "  <div id=\"df-0026e9c7-bff2-4472-98a7-a770118afbd7\">\n",
              "    <div class=\"colab-df-container\">\n",
              "      <div>\n",
              "<style scoped>\n",
              "    .dataframe tbody tr th:only-of-type {\n",
              "        vertical-align: middle;\n",
              "    }\n",
              "\n",
              "    .dataframe tbody tr th {\n",
              "        vertical-align: top;\n",
              "    }\n",
              "\n",
              "    .dataframe thead th {\n",
              "        text-align: right;\n",
              "    }\n",
              "</style>\n",
              "<table border=\"1\" class=\"dataframe\">\n",
              "  <thead>\n",
              "    <tr style=\"text-align: right;\">\n",
              "      <th></th>\n",
              "      <th>Model</th>\n",
              "      <th>Accuracy</th>\n",
              "      <th>F1 score</th>\n",
              "    </tr>\n",
              "  </thead>\n",
              "  <tbody>\n",
              "    <tr>\n",
              "      <th>6</th>\n",
              "      <td>XGB Classifier</td>\n",
              "      <td>0.938269</td>\n",
              "      <td>0.934511</td>\n",
              "    </tr>\n",
              "    <tr>\n",
              "      <th>5</th>\n",
              "      <td>Gradient Boosting</td>\n",
              "      <td>0.934400</td>\n",
              "      <td>0.931194</td>\n",
              "    </tr>\n",
              "    <tr>\n",
              "      <th>0</th>\n",
              "      <td>KNN</td>\n",
              "      <td>0.902978</td>\n",
              "      <td>0.909814</td>\n",
              "    </tr>\n",
              "    <tr>\n",
              "      <th>2</th>\n",
              "      <td>Random Forest</td>\n",
              "      <td>0.813460</td>\n",
              "      <td>0.813285</td>\n",
              "    </tr>\n",
              "    <tr>\n",
              "      <th>4</th>\n",
              "      <td>Decision Tree</td>\n",
              "      <td>0.646617</td>\n",
              "      <td>0.716196</td>\n",
              "    </tr>\n",
              "    <tr>\n",
              "      <th>3</th>\n",
              "      <td>Naive Bayes</td>\n",
              "      <td>0.575155</td>\n",
              "      <td>0.668466</td>\n",
              "    </tr>\n",
              "    <tr>\n",
              "      <th>1</th>\n",
              "      <td>Logistic Regression</td>\n",
              "      <td>0.516708</td>\n",
              "      <td>0.486611</td>\n",
              "    </tr>\n",
              "  </tbody>\n",
              "</table>\n",
              "</div>\n",
              "      <button class=\"colab-df-convert\" onclick=\"convertToInteractive('df-0026e9c7-bff2-4472-98a7-a770118afbd7')\"\n",
              "              title=\"Convert this dataframe to an interactive table.\"\n",
              "              style=\"display:none;\">\n",
              "        \n",
              "  <svg xmlns=\"http://www.w3.org/2000/svg\" height=\"24px\"viewBox=\"0 0 24 24\"\n",
              "       width=\"24px\">\n",
              "    <path d=\"M0 0h24v24H0V0z\" fill=\"none\"/>\n",
              "    <path d=\"M18.56 5.44l.94 2.06.94-2.06 2.06-.94-2.06-.94-.94-2.06-.94 2.06-2.06.94zm-11 1L8.5 8.5l.94-2.06 2.06-.94-2.06-.94L8.5 2.5l-.94 2.06-2.06.94zm10 10l.94 2.06.94-2.06 2.06-.94-2.06-.94-.94-2.06-.94 2.06-2.06.94z\"/><path d=\"M17.41 7.96l-1.37-1.37c-.4-.4-.92-.59-1.43-.59-.52 0-1.04.2-1.43.59L10.3 9.45l-7.72 7.72c-.78.78-.78 2.05 0 2.83L4 21.41c.39.39.9.59 1.41.59.51 0 1.02-.2 1.41-.59l7.78-7.78 2.81-2.81c.8-.78.8-2.07 0-2.86zM5.41 20L4 18.59l7.72-7.72 1.47 1.35L5.41 20z\"/>\n",
              "  </svg>\n",
              "      </button>\n",
              "      \n",
              "  <style>\n",
              "    .colab-df-container {\n",
              "      display:flex;\n",
              "      flex-wrap:wrap;\n",
              "      gap: 12px;\n",
              "    }\n",
              "\n",
              "    .colab-df-convert {\n",
              "      background-color: #E8F0FE;\n",
              "      border: none;\n",
              "      border-radius: 50%;\n",
              "      cursor: pointer;\n",
              "      display: none;\n",
              "      fill: #1967D2;\n",
              "      height: 32px;\n",
              "      padding: 0 0 0 0;\n",
              "      width: 32px;\n",
              "    }\n",
              "\n",
              "    .colab-df-convert:hover {\n",
              "      background-color: #E2EBFA;\n",
              "      box-shadow: 0px 1px 2px rgba(60, 64, 67, 0.3), 0px 1px 3px 1px rgba(60, 64, 67, 0.15);\n",
              "      fill: #174EA6;\n",
              "    }\n",
              "\n",
              "    [theme=dark] .colab-df-convert {\n",
              "      background-color: #3B4455;\n",
              "      fill: #D2E3FC;\n",
              "    }\n",
              "\n",
              "    [theme=dark] .colab-df-convert:hover {\n",
              "      background-color: #434B5C;\n",
              "      box-shadow: 0px 1px 3px 1px rgba(0, 0, 0, 0.15);\n",
              "      filter: drop-shadow(0px 1px 2px rgba(0, 0, 0, 0.3));\n",
              "      fill: #FFFFFF;\n",
              "    }\n",
              "  </style>\n",
              "\n",
              "      <script>\n",
              "        const buttonEl =\n",
              "          document.querySelector('#df-0026e9c7-bff2-4472-98a7-a770118afbd7 button.colab-df-convert');\n",
              "        buttonEl.style.display =\n",
              "          google.colab.kernel.accessAllowed ? 'block' : 'none';\n",
              "\n",
              "        async function convertToInteractive(key) {\n",
              "          const element = document.querySelector('#df-0026e9c7-bff2-4472-98a7-a770118afbd7');\n",
              "          const dataTable =\n",
              "            await google.colab.kernel.invokeFunction('convertToInteractive',\n",
              "                                                     [key], {});\n",
              "          if (!dataTable) return;\n",
              "\n",
              "          const docLinkHtml = 'Like what you see? Visit the ' +\n",
              "            '<a target=\"_blank\" href=https://colab.research.google.com/notebooks/data_table.ipynb>data table notebook</a>'\n",
              "            + ' to learn more about interactive tables.';\n",
              "          element.innerHTML = '';\n",
              "          dataTable['output_type'] = 'display_data';\n",
              "          await google.colab.output.renderOutput(dataTable, element);\n",
              "          const docLink = document.createElement('div');\n",
              "          docLink.innerHTML = docLinkHtml;\n",
              "          element.appendChild(docLink);\n",
              "        }\n",
              "      </script>\n",
              "    </div>\n",
              "  </div>\n",
              "  "
            ]
          },
          "metadata": {},
          "execution_count": 54
        }
      ]
    },
    {
      "cell_type": "markdown",
      "source": [
        "* 상위 3개 방법으로 보팅할까요? \n"
      ],
      "metadata": {
        "id": "ko678zAej4oK"
      }
    },
    {
      "cell_type": "code",
      "source": [
        "from sklearn.ensemble import VotingClassifier\n",
        "\n",
        "xgb= XGBClassifier(learning_rate = 0.2, max_depth = 5, n_estimators= 100)\n",
        "gb = GradientBoostingClassifier(learning_rate = 1, n_estimators = 100)\n",
        "knn = KNeighborsClassifier(metric = 'euclidean', n_neighbors = 2, weights = 'uniform')\n",
        "\n",
        "votingC = VotingClassifier(estimators=[('xgboosting', xgb), ('Gradient Boosting', gb), ('Knn', knn), ],\n",
        "                           voting='soft',\n",
        "                           n_jobs=-1)\n",
        "\n",
        "votingC.fit(X_train, Y_train)\n",
        "\n",
        "Y_pred = votingC.predict(X_valid)\n",
        "accuracy_voting = accuracy_score(Y_pred, Y_valid)\n",
        "f1_voting = f1_score(Y_pred,Y_valid)\n",
        "print(accuracy_voting)\n",
        "print(f1_voting)\n",
        "\n",
        "predictions = votingC.predict(test)"
      ],
      "metadata": {
        "id": "hGn_O6JIirWK",
        "colab": {
          "base_uri": "https://localhost:8080/"
        },
        "outputId": "f9dc829f-2179-45bb-ca4d-95a7a8e9635e"
      },
      "execution_count": 51,
      "outputs": [
        {
          "output_type": "stream",
          "name": "stdout",
          "text": [
            "0.9432524328760699\n",
            "0.9407371127709072\n"
          ]
        }
      ]
    },
    {
      "cell_type": "code",
      "source": [
        "output = pd.read_csv('/content/drive/MyDrive/loan_sample_submission.csv')\n",
        "output['Loan Status'] = predictions\n",
        "output.to_csv('/content/drive/MyDrive/submission.csv', index = False)"
      ],
      "metadata": {
        "id": "VlTRM7JVpFR9"
      },
      "execution_count": 59,
      "outputs": []
    },
    {
      "cell_type": "code",
      "source": [],
      "metadata": {
        "id": "oJIiOGnw3p7l"
      },
      "execution_count": null,
      "outputs": []
    }
  ]
}